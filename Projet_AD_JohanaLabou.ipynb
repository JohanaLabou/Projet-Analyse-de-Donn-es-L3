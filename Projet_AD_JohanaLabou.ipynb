{
 "cells": [
  {
   "cell_type": "code",
   "execution_count": 1,
   "metadata": {},
   "outputs": [],
   "source": [
    "#!pip install unidecode"
   ]
  },
  {
   "cell_type": "code",
   "execution_count": 2,
   "metadata": {},
   "outputs": [],
   "source": [
    "#!pip install imbalanced-learn"
   ]
  },
  {
   "cell_type": "code",
   "execution_count": 3,
   "metadata": {},
   "outputs": [],
   "source": [
    "#!pip install delayed"
   ]
  },
  {
   "cell_type": "markdown",
   "metadata": {},
   "source": [
    "# Projet Analyse de Données - Année scolaire 2020-2021 ~ Johana LABOU"
   ]
  },
  {
   "cell_type": "markdown",
   "metadata": {},
   "source": [
    "## Introduction"
   ]
  },
  {
   "cell_type": "markdown",
   "metadata": {},
   "source": [
    "Pour ce projet, j'ai décidé de m'intéresser à la composition de l'équipe de France de football.\n",
    "Plus précisément, je vais créer un modèle permettant de prédire la sélection ou non-sélection des joueurs par Didier Deschamps pour l'EDF.\n",
    "\n",
    "Pour ce faire, j'ai choisi d'utiliser le jeu de données suivant : https://www.kaggle.com/stefanoleone992/fifa-21-complete-player-dataset\n",
    "\n",
    "Il s'agit de la base de données officielle de la série de jeux vidéo FIFA, qui regroupe les caractéristiques de tous les joueurs du jeu de 2015 à 2021. Ces données sont une bonne représentation des joueurs dans la vraie vie.\n",
    "\n",
    "Il s'agit d'un problème de classification binaire (un joueur est sélectionné en EDF ou bien il ne l'est pas). "
   ]
  },
  {
   "cell_type": "markdown",
   "metadata": {},
   "source": [
    "## Importation des librairies et des données "
   ]
  },
  {
   "cell_type": "code",
   "execution_count": 4,
   "metadata": {},
   "outputs": [],
   "source": [
    "import pandas as pd\n",
    "import numpy as np\n",
    "import matplotlib.pyplot as plt\n",
    "import seaborn as sns\n",
    "import unidecode\n",
    "import imblearn\n",
    "import math\n",
    "from math import pi\n",
    "from imblearn.over_sampling import SMOTE\n",
    "from sklearn.metrics import confusion_matrix\n",
    "from sklearn.metrics import plot_confusion_matrix\n",
    "from sklearn.metrics import accuracy_score\n",
    "from sklearn.model_selection import train_test_split\n",
    "from sklearn.decomposition import PCA\n",
    "from sklearn.ensemble import RandomForestClassifier\n",
    "from sklearn.model_selection import validation_curve\n",
    "from sklearn.model_selection import RandomizedSearchCV\n",
    "from imblearn.over_sampling import SMOTE\n",
    "from sklearn.linear_model import LogisticRegression\n",
    "import warnings\n",
    "warnings.filterwarnings('ignore')"
   ]
  },
  {
   "cell_type": "markdown",
   "metadata": {},
   "source": [
    "Mon dataset contient 7 fichiers csv pour les années 2015, 2016, 2017, 2018, 2019, 2020 et 2021.\n",
    "N'ayant pas trouvé de document regroupant tous les joueurs sélectionnés en EDF pour cette période, j'ai moi-même créé un excel avec ces données, que j'ai par la suite converti en .csv. \n",
    "\n",
    "Dans la cellule suivante, je crée un dataframe pour chacun de ces fichiers."
   ]
  },
  {
   "cell_type": "code",
   "execution_count": 5,
   "metadata": {},
   "outputs": [],
   "source": [
    "players_15 = pd.read_csv('players_15.csv')\n",
    "players_15['selection_year'] = '2015' #Ajout d'une colonne dans le dataframe correspondant à l'année en cours\n",
    "players_16 = pd.read_csv('players_16.csv')\n",
    "players_16['selection_year'] = '2016'\n",
    "players_17 = pd.read_csv('players_17.csv')\n",
    "players_17['selection_year'] = '2017'\n",
    "players_18 = pd.read_csv('players_18.csv')\n",
    "players_18['selection_year'] = '2018'\n",
    "players_19 = pd.read_csv('players_19.csv')\n",
    "players_19['selection_year'] = '2019'\n",
    "players_20 = pd.read_csv('players_20.csv')\n",
    "players_20['selection_year'] = '2020'\n",
    "players_21 = pd.read_csv('players_21.csv')\n",
    "players_21['selection_year'] = '2021'\n",
    "selected_players = pd.read_csv('selected_players_15-21.csv', sep=';') #dataframe du .csv contenant la liste des joueurs selectionnes en EDF de 2015 à 2021"
   ]
  },
  {
   "cell_type": "code",
   "execution_count": 6,
   "metadata": {},
   "outputs": [],
   "source": [
    "selected_players['Année'] = selected_players['Année'].astype(str) #Conversion des colonnes années en type str"
   ]
  },
  {
   "cell_type": "markdown",
   "metadata": {},
   "source": [
    "La cellule suivante sert à concaténer tous les dataframes players_XX en un seul appelé \"players_df\"."
   ]
  },
  {
   "cell_type": "code",
   "execution_count": 7,
   "metadata": {},
   "outputs": [],
   "source": [
    "players_df = players_15.append([players_16, players_17, players_18, players_19, players_20, players_21])"
   ]
  },
  {
   "cell_type": "code",
   "execution_count": 8,
   "metadata": {},
   "outputs": [
    {
     "data": {
      "text/html": [
       "<div>\n",
       "<style scoped>\n",
       "    .dataframe tbody tr th:only-of-type {\n",
       "        vertical-align: middle;\n",
       "    }\n",
       "\n",
       "    .dataframe tbody tr th {\n",
       "        vertical-align: top;\n",
       "    }\n",
       "\n",
       "    .dataframe thead th {\n",
       "        text-align: right;\n",
       "    }\n",
       "</style>\n",
       "<table border=\"1\" class=\"dataframe\">\n",
       "  <thead>\n",
       "    <tr style=\"text-align: right;\">\n",
       "      <th></th>\n",
       "      <th>sofifa_id</th>\n",
       "      <th>player_url</th>\n",
       "      <th>short_name</th>\n",
       "      <th>long_name</th>\n",
       "      <th>age</th>\n",
       "      <th>dob</th>\n",
       "      <th>height_cm</th>\n",
       "      <th>weight_kg</th>\n",
       "      <th>nationality</th>\n",
       "      <th>club_name</th>\n",
       "      <th>...</th>\n",
       "      <th>ldm</th>\n",
       "      <th>cdm</th>\n",
       "      <th>rdm</th>\n",
       "      <th>rwb</th>\n",
       "      <th>lb</th>\n",
       "      <th>lcb</th>\n",
       "      <th>cb</th>\n",
       "      <th>rcb</th>\n",
       "      <th>rb</th>\n",
       "      <th>selection_year</th>\n",
       "    </tr>\n",
       "  </thead>\n",
       "  <tbody>\n",
       "    <tr>\n",
       "      <th>0</th>\n",
       "      <td>158023</td>\n",
       "      <td>https://sofifa.com/player/158023/lionel-messi/...</td>\n",
       "      <td>L. Messi</td>\n",
       "      <td>Lionel Andrés Messi Cuccittini</td>\n",
       "      <td>27</td>\n",
       "      <td>1987-06-24</td>\n",
       "      <td>169</td>\n",
       "      <td>67</td>\n",
       "      <td>Argentina</td>\n",
       "      <td>FC Barcelona</td>\n",
       "      <td>...</td>\n",
       "      <td>62+3</td>\n",
       "      <td>62+3</td>\n",
       "      <td>62+3</td>\n",
       "      <td>62+3</td>\n",
       "      <td>54+3</td>\n",
       "      <td>45+3</td>\n",
       "      <td>45+3</td>\n",
       "      <td>45+3</td>\n",
       "      <td>54+3</td>\n",
       "      <td>2015</td>\n",
       "    </tr>\n",
       "    <tr>\n",
       "      <th>1</th>\n",
       "      <td>20801</td>\n",
       "      <td>https://sofifa.com/player/20801/c-ronaldo-dos-...</td>\n",
       "      <td>Cristiano Ronaldo</td>\n",
       "      <td>Cristiano Ronaldo dos Santos Aveiro</td>\n",
       "      <td>29</td>\n",
       "      <td>1985-02-05</td>\n",
       "      <td>185</td>\n",
       "      <td>80</td>\n",
       "      <td>Portugal</td>\n",
       "      <td>Real Madrid</td>\n",
       "      <td>...</td>\n",
       "      <td>63+3</td>\n",
       "      <td>63+3</td>\n",
       "      <td>63+3</td>\n",
       "      <td>63+3</td>\n",
       "      <td>57+3</td>\n",
       "      <td>52+3</td>\n",
       "      <td>52+3</td>\n",
       "      <td>52+3</td>\n",
       "      <td>57+3</td>\n",
       "      <td>2015</td>\n",
       "    </tr>\n",
       "    <tr>\n",
       "      <th>2</th>\n",
       "      <td>9014</td>\n",
       "      <td>https://sofifa.com/player/9014/arjen-robben/15...</td>\n",
       "      <td>A. Robben</td>\n",
       "      <td>Arjen Robben</td>\n",
       "      <td>30</td>\n",
       "      <td>1984-01-23</td>\n",
       "      <td>180</td>\n",
       "      <td>80</td>\n",
       "      <td>Netherlands</td>\n",
       "      <td>FC Bayern München</td>\n",
       "      <td>...</td>\n",
       "      <td>64+3</td>\n",
       "      <td>64+3</td>\n",
       "      <td>64+3</td>\n",
       "      <td>64+3</td>\n",
       "      <td>55+3</td>\n",
       "      <td>46+3</td>\n",
       "      <td>46+3</td>\n",
       "      <td>46+3</td>\n",
       "      <td>55+3</td>\n",
       "      <td>2015</td>\n",
       "    </tr>\n",
       "    <tr>\n",
       "      <th>3</th>\n",
       "      <td>41236</td>\n",
       "      <td>https://sofifa.com/player/41236/zlatan-ibrahim...</td>\n",
       "      <td>Z. Ibrahimović</td>\n",
       "      <td>Zlatan Ibrahimović</td>\n",
       "      <td>32</td>\n",
       "      <td>1981-10-03</td>\n",
       "      <td>195</td>\n",
       "      <td>95</td>\n",
       "      <td>Sweden</td>\n",
       "      <td>Paris Saint-Germain</td>\n",
       "      <td>...</td>\n",
       "      <td>65+3</td>\n",
       "      <td>65+3</td>\n",
       "      <td>65+3</td>\n",
       "      <td>61+3</td>\n",
       "      <td>56+3</td>\n",
       "      <td>55+3</td>\n",
       "      <td>55+3</td>\n",
       "      <td>55+3</td>\n",
       "      <td>56+3</td>\n",
       "      <td>2015</td>\n",
       "    </tr>\n",
       "    <tr>\n",
       "      <th>4</th>\n",
       "      <td>167495</td>\n",
       "      <td>https://sofifa.com/player/167495/manuel-neuer/...</td>\n",
       "      <td>M. Neuer</td>\n",
       "      <td>Manuel Neuer</td>\n",
       "      <td>28</td>\n",
       "      <td>1986-03-27</td>\n",
       "      <td>193</td>\n",
       "      <td>92</td>\n",
       "      <td>Germany</td>\n",
       "      <td>FC Bayern München</td>\n",
       "      <td>...</td>\n",
       "      <td>40+3</td>\n",
       "      <td>40+3</td>\n",
       "      <td>40+3</td>\n",
       "      <td>36+3</td>\n",
       "      <td>36+3</td>\n",
       "      <td>38+3</td>\n",
       "      <td>38+3</td>\n",
       "      <td>38+3</td>\n",
       "      <td>36+3</td>\n",
       "      <td>2015</td>\n",
       "    </tr>\n",
       "  </tbody>\n",
       "</table>\n",
       "<p>5 rows × 107 columns</p>\n",
       "</div>"
      ],
      "text/plain": [
       "   sofifa_id                                         player_url  \\\n",
       "0     158023  https://sofifa.com/player/158023/lionel-messi/...   \n",
       "1      20801  https://sofifa.com/player/20801/c-ronaldo-dos-...   \n",
       "2       9014  https://sofifa.com/player/9014/arjen-robben/15...   \n",
       "3      41236  https://sofifa.com/player/41236/zlatan-ibrahim...   \n",
       "4     167495  https://sofifa.com/player/167495/manuel-neuer/...   \n",
       "\n",
       "          short_name                            long_name  age         dob  \\\n",
       "0           L. Messi       Lionel Andrés Messi Cuccittini   27  1987-06-24   \n",
       "1  Cristiano Ronaldo  Cristiano Ronaldo dos Santos Aveiro   29  1985-02-05   \n",
       "2          A. Robben                         Arjen Robben   30  1984-01-23   \n",
       "3     Z. Ibrahimović                   Zlatan Ibrahimović   32  1981-10-03   \n",
       "4           M. Neuer                         Manuel Neuer   28  1986-03-27   \n",
       "\n",
       "   height_cm  weight_kg  nationality            club_name  ...   ldm   cdm  \\\n",
       "0        169         67    Argentina         FC Barcelona  ...  62+3  62+3   \n",
       "1        185         80     Portugal          Real Madrid  ...  63+3  63+3   \n",
       "2        180         80  Netherlands    FC Bayern München  ...  64+3  64+3   \n",
       "3        195         95       Sweden  Paris Saint-Germain  ...  65+3  65+3   \n",
       "4        193         92      Germany    FC Bayern München  ...  40+3  40+3   \n",
       "\n",
       "    rdm   rwb    lb   lcb    cb   rcb    rb  selection_year  \n",
       "0  62+3  62+3  54+3  45+3  45+3  45+3  54+3            2015  \n",
       "1  63+3  63+3  57+3  52+3  52+3  52+3  57+3            2015  \n",
       "2  64+3  64+3  55+3  46+3  46+3  46+3  55+3            2015  \n",
       "3  65+3  61+3  56+3  55+3  55+3  55+3  56+3            2015  \n",
       "4  40+3  36+3  36+3  38+3  38+3  38+3  36+3            2015  \n",
       "\n",
       "[5 rows x 107 columns]"
      ]
     },
     "execution_count": 8,
     "metadata": {},
     "output_type": "execute_result"
    }
   ],
   "source": [
    "#On affiche les 5 premieres lignes de players_df\n",
    "players_df.head()"
   ]
  },
  {
   "cell_type": "code",
   "execution_count": 9,
   "metadata": {},
   "outputs": [
    {
     "data": {
      "text/plain": [
       "(122841, 107)"
      ]
     },
     "execution_count": 9,
     "metadata": {},
     "output_type": "execute_result"
    }
   ],
   "source": [
    "#On affiche le nombre de lignes et de colonnes de players_df\n",
    "players_df.shape"
   ]
  },
  {
   "cell_type": "markdown",
   "metadata": {},
   "source": [
    "Le dataframe 'players_df' contient désormais les données de TOUS les joueurs des jeux FIFA de 2015 à 2021. On voit qu'il comporte 122 841 lignes (une ligne par joueur) et 107 colonnes (une colonne par attribut)."
   ]
  },
  {
   "cell_type": "markdown",
   "metadata": {},
   "source": [
    "## Pré-traitement des données"
   ]
  },
  {
   "cell_type": "markdown",
   "metadata": {},
   "source": [
    "Dans notre problème, nous ne nous intéressons qu'aux joueurs susceptibles d'être sélectionnés en EDF, c'est-à-dire les joueurs de nationalité française. \n",
    "\n",
    "Dans la celulle suivante, nous faisons donc une sélection sur la colonne 'nationality'.\n",
    "Nous faisons ensuite le choix d'enlever tous les accents et les majuscules pour prévenir d'éventuelles erreurs de casse/d'accent plus tard."
   ]
  },
  {
   "cell_type": "code",
   "execution_count": 10,
   "metadata": {},
   "outputs": [],
   "source": [
    "players_df = players_df[players_df['nationality']=='France']\n",
    "players_df['long_name'] = players_df['long_name'].apply(lambda x : unidecode.unidecode(x)) #pour chaque ligne du dataframe, on applique la fonction unidecode.unidecode() qui remplace tous les caracteres speciaux en caracteres ASCII dans la colonne \"long_name\"\n",
    "players_df['long_name'] = players_df['long_name'].apply(lambda x : x.lower()) #pour chaque ligne du df, on remplace toutes les majuscules par des minuscules dans la colonne \"long_name\""
   ]
  },
  {
   "cell_type": "code",
   "execution_count": 11,
   "metadata": {},
   "outputs": [
    {
     "data": {
      "text/plain": [
       "(6764, 107)"
      ]
     },
     "execution_count": 11,
     "metadata": {},
     "output_type": "execute_result"
    }
   ],
   "source": [
    "#On affiche le nombre de lignes et de colonnes de players_df\n",
    "players_df.shape"
   ]
  },
  {
   "cell_type": "markdown",
   "metadata": {},
   "source": [
    "On voit que parmi les 122 841 joueurs, 6 764 sont français. Affichons les 3 premieres lignes de players_df :"
   ]
  },
  {
   "cell_type": "code",
   "execution_count": 12,
   "metadata": {
    "scrolled": false
   },
   "outputs": [
    {
     "data": {
      "text/html": [
       "<div>\n",
       "<style scoped>\n",
       "    .dataframe tbody tr th:only-of-type {\n",
       "        vertical-align: middle;\n",
       "    }\n",
       "\n",
       "    .dataframe tbody tr th {\n",
       "        vertical-align: top;\n",
       "    }\n",
       "\n",
       "    .dataframe thead th {\n",
       "        text-align: right;\n",
       "    }\n",
       "</style>\n",
       "<table border=\"1\" class=\"dataframe\">\n",
       "  <thead>\n",
       "    <tr style=\"text-align: right;\">\n",
       "      <th></th>\n",
       "      <th>sofifa_id</th>\n",
       "      <th>player_url</th>\n",
       "      <th>short_name</th>\n",
       "      <th>long_name</th>\n",
       "      <th>age</th>\n",
       "      <th>dob</th>\n",
       "      <th>height_cm</th>\n",
       "      <th>weight_kg</th>\n",
       "      <th>nationality</th>\n",
       "      <th>club_name</th>\n",
       "      <th>...</th>\n",
       "      <th>ldm</th>\n",
       "      <th>cdm</th>\n",
       "      <th>rdm</th>\n",
       "      <th>rwb</th>\n",
       "      <th>lb</th>\n",
       "      <th>lcb</th>\n",
       "      <th>cb</th>\n",
       "      <th>rcb</th>\n",
       "      <th>rb</th>\n",
       "      <th>selection_year</th>\n",
       "    </tr>\n",
       "  </thead>\n",
       "  <tbody>\n",
       "    <tr>\n",
       "      <th>10</th>\n",
       "      <td>156616</td>\n",
       "      <td>https://sofifa.com/player/156616/franck-ribery...</td>\n",
       "      <td>F. Ribéry</td>\n",
       "      <td>franck bilal ribery</td>\n",
       "      <td>31</td>\n",
       "      <td>1983-04-07</td>\n",
       "      <td>170</td>\n",
       "      <td>72</td>\n",
       "      <td>France</td>\n",
       "      <td>FC Bayern München</td>\n",
       "      <td>...</td>\n",
       "      <td>63+2</td>\n",
       "      <td>63+2</td>\n",
       "      <td>63+2</td>\n",
       "      <td>63+2</td>\n",
       "      <td>53+2</td>\n",
       "      <td>44+2</td>\n",
       "      <td>44+2</td>\n",
       "      <td>44+2</td>\n",
       "      <td>53+2</td>\n",
       "      <td>2015</td>\n",
       "    </tr>\n",
       "    <tr>\n",
       "      <th>35</th>\n",
       "      <td>165153</td>\n",
       "      <td>https://sofifa.com/player/165153/karim-benzema...</td>\n",
       "      <td>K. Benzema</td>\n",
       "      <td>karim benzema</td>\n",
       "      <td>26</td>\n",
       "      <td>1987-12-19</td>\n",
       "      <td>184</td>\n",
       "      <td>79</td>\n",
       "      <td>France</td>\n",
       "      <td>Real Madrid</td>\n",
       "      <td>...</td>\n",
       "      <td>58+2</td>\n",
       "      <td>58+2</td>\n",
       "      <td>58+2</td>\n",
       "      <td>58+2</td>\n",
       "      <td>53+2</td>\n",
       "      <td>49+2</td>\n",
       "      <td>49+2</td>\n",
       "      <td>49+2</td>\n",
       "      <td>53+2</td>\n",
       "      <td>2015</td>\n",
       "    </tr>\n",
       "    <tr>\n",
       "      <th>39</th>\n",
       "      <td>167948</td>\n",
       "      <td>https://sofifa.com/player/167948/hugo-lloris/1...</td>\n",
       "      <td>H. Lloris</td>\n",
       "      <td>hugo lloris</td>\n",
       "      <td>27</td>\n",
       "      <td>1986-12-26</td>\n",
       "      <td>188</td>\n",
       "      <td>78</td>\n",
       "      <td>France</td>\n",
       "      <td>Tottenham Hotspur</td>\n",
       "      <td>...</td>\n",
       "      <td>35+1</td>\n",
       "      <td>35+1</td>\n",
       "      <td>35+1</td>\n",
       "      <td>35+1</td>\n",
       "      <td>34+1</td>\n",
       "      <td>33+1</td>\n",
       "      <td>33+1</td>\n",
       "      <td>33+1</td>\n",
       "      <td>34+1</td>\n",
       "      <td>2015</td>\n",
       "    </tr>\n",
       "  </tbody>\n",
       "</table>\n",
       "<p>3 rows × 107 columns</p>\n",
       "</div>"
      ],
      "text/plain": [
       "    sofifa_id                                         player_url  short_name  \\\n",
       "10     156616  https://sofifa.com/player/156616/franck-ribery...   F. Ribéry   \n",
       "35     165153  https://sofifa.com/player/165153/karim-benzema...  K. Benzema   \n",
       "39     167948  https://sofifa.com/player/167948/hugo-lloris/1...   H. Lloris   \n",
       "\n",
       "              long_name  age         dob  height_cm  weight_kg nationality  \\\n",
       "10  franck bilal ribery   31  1983-04-07        170         72      France   \n",
       "35        karim benzema   26  1987-12-19        184         79      France   \n",
       "39          hugo lloris   27  1986-12-26        188         78      France   \n",
       "\n",
       "            club_name  ...   ldm   cdm   rdm   rwb    lb   lcb    cb   rcb  \\\n",
       "10  FC Bayern München  ...  63+2  63+2  63+2  63+2  53+2  44+2  44+2  44+2   \n",
       "35        Real Madrid  ...  58+2  58+2  58+2  58+2  53+2  49+2  49+2  49+2   \n",
       "39  Tottenham Hotspur  ...  35+1  35+1  35+1  35+1  34+1  33+1  33+1  33+1   \n",
       "\n",
       "      rb  selection_year  \n",
       "10  53+2            2015  \n",
       "35  53+2            2015  \n",
       "39  34+1            2015  \n",
       "\n",
       "[3 rows x 107 columns]"
      ]
     },
     "execution_count": 12,
     "metadata": {},
     "output_type": "execute_result"
    }
   ],
   "source": [
    "#On affiche les 3 premières ligne de players_df\n",
    "players_df.head(3)"
   ]
  },
  {
   "cell_type": "markdown",
   "metadata": {},
   "source": [
    "Les 3 premiers joueurs du nouveau players_df sont bien français, et on remarque que leurs noms dans la colonne long_name sont bien écrits en minuscule et sans accents."
   ]
  },
  {
   "cell_type": "markdown",
   "metadata": {},
   "source": [
    "Intéressons-nous à présent au dataframe 'selected_players' :"
   ]
  },
  {
   "cell_type": "code",
   "execution_count": 13,
   "metadata": {},
   "outputs": [
    {
     "data": {
      "text/html": [
       "<div>\n",
       "<style scoped>\n",
       "    .dataframe tbody tr th:only-of-type {\n",
       "        vertical-align: middle;\n",
       "    }\n",
       "\n",
       "    .dataframe tbody tr th {\n",
       "        vertical-align: top;\n",
       "    }\n",
       "\n",
       "    .dataframe thead th {\n",
       "        text-align: right;\n",
       "    }\n",
       "</style>\n",
       "<table border=\"1\" class=\"dataframe\">\n",
       "  <thead>\n",
       "    <tr style=\"text-align: right;\">\n",
       "      <th></th>\n",
       "      <th>Année</th>\n",
       "      <th>Joueurs</th>\n",
       "      <th>Poste</th>\n",
       "    </tr>\n",
       "  </thead>\n",
       "  <tbody>\n",
       "    <tr>\n",
       "      <th>0</th>\n",
       "      <td>2015</td>\n",
       "      <td>Hugo Lloris</td>\n",
       "      <td>G</td>\n",
       "    </tr>\n",
       "    <tr>\n",
       "      <th>1</th>\n",
       "      <td>2015</td>\n",
       "      <td>Steve Mandanda</td>\n",
       "      <td>G</td>\n",
       "    </tr>\n",
       "    <tr>\n",
       "      <th>2</th>\n",
       "      <td>2015</td>\n",
       "      <td>Stéphane Ruffier</td>\n",
       "      <td>G</td>\n",
       "    </tr>\n",
       "    <tr>\n",
       "      <th>3</th>\n",
       "      <td>2015</td>\n",
       "      <td>Patrice Evra</td>\n",
       "      <td>D</td>\n",
       "    </tr>\n",
       "    <tr>\n",
       "      <th>4</th>\n",
       "      <td>2015</td>\n",
       "      <td>Benoît Trémoulinas</td>\n",
       "      <td>D</td>\n",
       "    </tr>\n",
       "  </tbody>\n",
       "</table>\n",
       "</div>"
      ],
      "text/plain": [
       "  Année             Joueurs Poste\n",
       "0  2015         Hugo Lloris     G\n",
       "1  2015      Steve Mandanda     G\n",
       "2  2015    Stéphane Ruffier     G\n",
       "3  2015        Patrice Evra     D\n",
       "4  2015  Benoît Trémoulinas     D"
      ]
     },
     "execution_count": 13,
     "metadata": {},
     "output_type": "execute_result"
    }
   ],
   "source": [
    "selected_players.head()"
   ]
  },
  {
   "cell_type": "markdown",
   "metadata": {},
   "source": [
    "S'agissant d'un problème de classification binaire, on met à 1 les joueurs qui ont déjà été sélectionnés par le passé (à savoir tous les joueurs du dataframe \"selected_players\") en créant une nouvelle colonne 'selected'.\n",
    "\n",
    "Ensuite, on renomme les colonnes \"Année\" et \"Joueurs\" de selected_players pour qu'elles aient le même nom que les colonnes dans players_df. Enfin, comme pour players_df, on enlève tous les accents et majuscule dans les noms des joueurs."
   ]
  },
  {
   "cell_type": "code",
   "execution_count": 14,
   "metadata": {},
   "outputs": [],
   "source": [
    "selected_players['selected'] = 1\n",
    "selected_players.rename(columns = {'Année':'selection_year', 'Joueurs':'long_name' }, inplace=True)\n",
    "selected_players['long_name'] = selected_players['long_name'].apply(lambda x : unidecode.unidecode(x))\n",
    "selected_players['long_name'] = selected_players['long_name'].apply(lambda x : x.lower())"
   ]
  },
  {
   "cell_type": "code",
   "execution_count": 15,
   "metadata": {},
   "outputs": [
    {
     "data": {
      "text/html": [
       "<div>\n",
       "<style scoped>\n",
       "    .dataframe tbody tr th:only-of-type {\n",
       "        vertical-align: middle;\n",
       "    }\n",
       "\n",
       "    .dataframe tbody tr th {\n",
       "        vertical-align: top;\n",
       "    }\n",
       "\n",
       "    .dataframe thead th {\n",
       "        text-align: right;\n",
       "    }\n",
       "</style>\n",
       "<table border=\"1\" class=\"dataframe\">\n",
       "  <thead>\n",
       "    <tr style=\"text-align: right;\">\n",
       "      <th></th>\n",
       "      <th>selection_year</th>\n",
       "      <th>long_name</th>\n",
       "      <th>Poste</th>\n",
       "      <th>selected</th>\n",
       "    </tr>\n",
       "  </thead>\n",
       "  <tbody>\n",
       "    <tr>\n",
       "      <th>0</th>\n",
       "      <td>2015</td>\n",
       "      <td>hugo lloris</td>\n",
       "      <td>G</td>\n",
       "      <td>1</td>\n",
       "    </tr>\n",
       "    <tr>\n",
       "      <th>1</th>\n",
       "      <td>2015</td>\n",
       "      <td>steve mandanda</td>\n",
       "      <td>G</td>\n",
       "      <td>1</td>\n",
       "    </tr>\n",
       "    <tr>\n",
       "      <th>2</th>\n",
       "      <td>2015</td>\n",
       "      <td>stephane ruffier</td>\n",
       "      <td>G</td>\n",
       "      <td>1</td>\n",
       "    </tr>\n",
       "    <tr>\n",
       "      <th>3</th>\n",
       "      <td>2015</td>\n",
       "      <td>patrice evra</td>\n",
       "      <td>D</td>\n",
       "      <td>1</td>\n",
       "    </tr>\n",
       "    <tr>\n",
       "      <th>4</th>\n",
       "      <td>2015</td>\n",
       "      <td>benoit tremoulinas</td>\n",
       "      <td>D</td>\n",
       "      <td>1</td>\n",
       "    </tr>\n",
       "  </tbody>\n",
       "</table>\n",
       "</div>"
      ],
      "text/plain": [
       "  selection_year           long_name Poste  selected\n",
       "0           2015         hugo lloris     G         1\n",
       "1           2015      steve mandanda     G         1\n",
       "2           2015    stephane ruffier     G         1\n",
       "3           2015        patrice evra     D         1\n",
       "4           2015  benoit tremoulinas     D         1"
      ]
     },
     "execution_count": 15,
     "metadata": {},
     "output_type": "execute_result"
    }
   ],
   "source": [
    "selected_players.head()"
   ]
  },
  {
   "cell_type": "markdown",
   "metadata": {},
   "source": [
    "L'affichage nous montre bien que le renommage des colonnes a bien été fait, que les noms des joueurs ont bien été mis en minuscule et sans accent, et que la colonne selected a bien été mise à 1 pour tout le monde.\n",
    "\n",
    "Nous pouvons donc effectuer la jointure de players_df et selected_players sur les colonnes correspondant à l'année de sélection et au nom des joueurs.\n",
    "On nomme le nouveau dataframe obtenu \"full_df\". Il s'agit du dataframe sur lequel nous allons travailler par la suite."
   ]
  },
  {
   "cell_type": "code",
   "execution_count": 16,
   "metadata": {},
   "outputs": [],
   "source": [
    "full_df = players_df.merge(selected_players,  on = ['selection_year', 'long_name'], how='left')"
   ]
  },
  {
   "cell_type": "markdown",
   "metadata": {},
   "source": [
    "L'attribut how='left' de la fonction merge() indique que nous choisissons d'effectuer une jointure à gauche sur players_df.\n",
    "Le nombre de lignes de full_df devrait donc être égal au nombre de lignes de players_df, ce que vérifie la cellule suivante :"
   ]
  },
  {
   "cell_type": "code",
   "execution_count": 17,
   "metadata": {},
   "outputs": [
    {
     "data": {
      "text/plain": [
       "(6764, 109)"
      ]
     },
     "execution_count": 17,
     "metadata": {},
     "output_type": "execute_result"
    }
   ],
   "source": [
    "full_df.shape"
   ]
  },
  {
   "cell_type": "markdown",
   "metadata": {},
   "source": [
    "Maintenant que nous avons notre dataframe, il nous faut mettre à 0 tous les joueurs qui n'ont jamais été selectionnés :"
   ]
  },
  {
   "cell_type": "code",
   "execution_count": 18,
   "metadata": {},
   "outputs": [],
   "source": [
    "full_df['selected'] = full_df['selected'].fillna(0)"
   ]
  },
  {
   "cell_type": "code",
   "execution_count": 19,
   "metadata": {},
   "outputs": [
    {
     "data": {
      "text/html": [
       "<div>\n",
       "<style scoped>\n",
       "    .dataframe tbody tr th:only-of-type {\n",
       "        vertical-align: middle;\n",
       "    }\n",
       "\n",
       "    .dataframe tbody tr th {\n",
       "        vertical-align: top;\n",
       "    }\n",
       "\n",
       "    .dataframe thead th {\n",
       "        text-align: right;\n",
       "    }\n",
       "</style>\n",
       "<table border=\"1\" class=\"dataframe\">\n",
       "  <thead>\n",
       "    <tr style=\"text-align: right;\">\n",
       "      <th></th>\n",
       "      <th>sofifa_id</th>\n",
       "      <th>player_url</th>\n",
       "      <th>short_name</th>\n",
       "      <th>long_name</th>\n",
       "      <th>age</th>\n",
       "      <th>dob</th>\n",
       "      <th>height_cm</th>\n",
       "      <th>weight_kg</th>\n",
       "      <th>nationality</th>\n",
       "      <th>club_name</th>\n",
       "      <th>...</th>\n",
       "      <th>rdm</th>\n",
       "      <th>rwb</th>\n",
       "      <th>lb</th>\n",
       "      <th>lcb</th>\n",
       "      <th>cb</th>\n",
       "      <th>rcb</th>\n",
       "      <th>rb</th>\n",
       "      <th>selection_year</th>\n",
       "      <th>Poste</th>\n",
       "      <th>selected</th>\n",
       "    </tr>\n",
       "  </thead>\n",
       "  <tbody>\n",
       "    <tr>\n",
       "      <th>0</th>\n",
       "      <td>156616</td>\n",
       "      <td>https://sofifa.com/player/156616/franck-ribery...</td>\n",
       "      <td>F. Ribéry</td>\n",
       "      <td>franck bilal ribery</td>\n",
       "      <td>31</td>\n",
       "      <td>1983-04-07</td>\n",
       "      <td>170</td>\n",
       "      <td>72</td>\n",
       "      <td>France</td>\n",
       "      <td>FC Bayern München</td>\n",
       "      <td>...</td>\n",
       "      <td>63+2</td>\n",
       "      <td>63+2</td>\n",
       "      <td>53+2</td>\n",
       "      <td>44+2</td>\n",
       "      <td>44+2</td>\n",
       "      <td>44+2</td>\n",
       "      <td>53+2</td>\n",
       "      <td>2015</td>\n",
       "      <td>NaN</td>\n",
       "      <td>0.0</td>\n",
       "    </tr>\n",
       "    <tr>\n",
       "      <th>1</th>\n",
       "      <td>165153</td>\n",
       "      <td>https://sofifa.com/player/165153/karim-benzema...</td>\n",
       "      <td>K. Benzema</td>\n",
       "      <td>karim benzema</td>\n",
       "      <td>26</td>\n",
       "      <td>1987-12-19</td>\n",
       "      <td>184</td>\n",
       "      <td>79</td>\n",
       "      <td>France</td>\n",
       "      <td>Real Madrid</td>\n",
       "      <td>...</td>\n",
       "      <td>58+2</td>\n",
       "      <td>58+2</td>\n",
       "      <td>53+2</td>\n",
       "      <td>49+2</td>\n",
       "      <td>49+2</td>\n",
       "      <td>49+2</td>\n",
       "      <td>53+2</td>\n",
       "      <td>2015</td>\n",
       "      <td>A</td>\n",
       "      <td>1.0</td>\n",
       "    </tr>\n",
       "    <tr>\n",
       "      <th>2</th>\n",
       "      <td>167948</td>\n",
       "      <td>https://sofifa.com/player/167948/hugo-lloris/1...</td>\n",
       "      <td>H. Lloris</td>\n",
       "      <td>hugo lloris</td>\n",
       "      <td>27</td>\n",
       "      <td>1986-12-26</td>\n",
       "      <td>188</td>\n",
       "      <td>78</td>\n",
       "      <td>France</td>\n",
       "      <td>Tottenham Hotspur</td>\n",
       "      <td>...</td>\n",
       "      <td>35+1</td>\n",
       "      <td>35+1</td>\n",
       "      <td>34+1</td>\n",
       "      <td>33+1</td>\n",
       "      <td>33+1</td>\n",
       "      <td>33+1</td>\n",
       "      <td>34+1</td>\n",
       "      <td>2015</td>\n",
       "      <td>G</td>\n",
       "      <td>1.0</td>\n",
       "    </tr>\n",
       "    <tr>\n",
       "      <th>3</th>\n",
       "      <td>165239</td>\n",
       "      <td>https://sofifa.com/player/165239/samir-nasri/1...</td>\n",
       "      <td>S. Nasri</td>\n",
       "      <td>samir nasri</td>\n",
       "      <td>27</td>\n",
       "      <td>1987-06-26</td>\n",
       "      <td>175</td>\n",
       "      <td>75</td>\n",
       "      <td>France</td>\n",
       "      <td>Manchester City</td>\n",
       "      <td>...</td>\n",
       "      <td>64+1</td>\n",
       "      <td>65+1</td>\n",
       "      <td>57+1</td>\n",
       "      <td>50+1</td>\n",
       "      <td>50+1</td>\n",
       "      <td>50+1</td>\n",
       "      <td>57+1</td>\n",
       "      <td>2015</td>\n",
       "      <td>NaN</td>\n",
       "      <td>0.0</td>\n",
       "    </tr>\n",
       "    <tr>\n",
       "      <th>4</th>\n",
       "      <td>195864</td>\n",
       "      <td>https://sofifa.com/player/195864/paul-pogba/15...</td>\n",
       "      <td>P. Pogba</td>\n",
       "      <td>paul pogba</td>\n",
       "      <td>21</td>\n",
       "      <td>1993-03-15</td>\n",
       "      <td>188</td>\n",
       "      <td>80</td>\n",
       "      <td>France</td>\n",
       "      <td>Juventus</td>\n",
       "      <td>...</td>\n",
       "      <td>79+1</td>\n",
       "      <td>78+1</td>\n",
       "      <td>78+1</td>\n",
       "      <td>79+1</td>\n",
       "      <td>79+1</td>\n",
       "      <td>79+1</td>\n",
       "      <td>78+1</td>\n",
       "      <td>2015</td>\n",
       "      <td>M</td>\n",
       "      <td>1.0</td>\n",
       "    </tr>\n",
       "  </tbody>\n",
       "</table>\n",
       "<p>5 rows × 109 columns</p>\n",
       "</div>"
      ],
      "text/plain": [
       "   sofifa_id                                         player_url  short_name  \\\n",
       "0     156616  https://sofifa.com/player/156616/franck-ribery...   F. Ribéry   \n",
       "1     165153  https://sofifa.com/player/165153/karim-benzema...  K. Benzema   \n",
       "2     167948  https://sofifa.com/player/167948/hugo-lloris/1...   H. Lloris   \n",
       "3     165239  https://sofifa.com/player/165239/samir-nasri/1...    S. Nasri   \n",
       "4     195864  https://sofifa.com/player/195864/paul-pogba/15...    P. Pogba   \n",
       "\n",
       "             long_name  age         dob  height_cm  weight_kg nationality  \\\n",
       "0  franck bilal ribery   31  1983-04-07        170         72      France   \n",
       "1        karim benzema   26  1987-12-19        184         79      France   \n",
       "2          hugo lloris   27  1986-12-26        188         78      France   \n",
       "3          samir nasri   27  1987-06-26        175         75      France   \n",
       "4           paul pogba   21  1993-03-15        188         80      France   \n",
       "\n",
       "           club_name  ...   rdm   rwb    lb   lcb    cb   rcb    rb  \\\n",
       "0  FC Bayern München  ...  63+2  63+2  53+2  44+2  44+2  44+2  53+2   \n",
       "1        Real Madrid  ...  58+2  58+2  53+2  49+2  49+2  49+2  53+2   \n",
       "2  Tottenham Hotspur  ...  35+1  35+1  34+1  33+1  33+1  33+1  34+1   \n",
       "3    Manchester City  ...  64+1  65+1  57+1  50+1  50+1  50+1  57+1   \n",
       "4           Juventus  ...  79+1  78+1  78+1  79+1  79+1  79+1  78+1   \n",
       "\n",
       "  selection_year  Poste  selected  \n",
       "0           2015    NaN       0.0  \n",
       "1           2015      A       1.0  \n",
       "2           2015      G       1.0  \n",
       "3           2015    NaN       0.0  \n",
       "4           2015      M       1.0  \n",
       "\n",
       "[5 rows x 109 columns]"
      ]
     },
     "execution_count": 19,
     "metadata": {},
     "output_type": "execute_result"
    }
   ],
   "source": [
    "full_df.head()"
   ]
  },
  {
   "cell_type": "markdown",
   "metadata": {},
   "source": [
    "## Quelques graphiques..."
   ]
  },
  {
   "cell_type": "markdown",
   "metadata": {},
   "source": [
    "Dans cette partie, on s'attache à faire ressortir par des graphiques explicites quelques informations intéressantes fournies par nos données.\n",
    "Dans ce premier graphique par exemple, nous montrons le rapport entre le salaire annuel des joueurs et leur note globale attribuée par FIFA."
   ]
  },
  {
   "cell_type": "code",
   "execution_count": 20,
   "metadata": {},
   "outputs": [
    {
     "data": {
      "image/png": "[encoded data removed]",
      "text/plain": [
       "<Figure size 768.75x360 with 1 Axes>"
      ]
     },
     "metadata": {
      "needs_background": "light"
     },
     "output_type": "display_data"
    }
   ],
   "source": [
    "sns.relplot(x='overall', y='wage_eur', hue='age', sizes=(15, 200), aspect=2, data=full_df)\n",
    "plt.title('Salaire annuel en Euros vs Overall Rating',fontsize = 20)\n",
    "plt.xlabel('Overall Rating')\n",
    "plt.ylabel('Salaire en Euros')\n",
    "plt.show()"
   ]
  },
  {
   "cell_type": "markdown",
   "metadata": {},
   "source": [
    "Il apparait clairement qu'il existe une corrélation entre le niveau d'un joueur et son salaire. Grossièrement, on pourrait résumer cela de la manière suivante : plus un joueur est fort, et plus il a un gros salaire.\n",
    "\n",
    "Nous nous intéressons maintenant à la saison 2021. Le prochain graphique montre la moyenne d'age des joueurs français pour l'année 2021."
   ]
  },
  {
   "cell_type": "code",
   "execution_count": 21,
   "metadata": {},
   "outputs": [],
   "source": [
    "df_2021 = full_df[full_df['selection_year']=='2021'] # On ne garde que les joueurs français de 2021"
   ]
  },
  {
   "cell_type": "code",
   "execution_count": 22,
   "metadata": {},
   "outputs": [
    {
     "data": {
      "image/png": "[encoded data removed]",
      "text/plain": [
       "<Figure size 750x500 with 1 Axes>"
      ]
     },
     "metadata": {
      "needs_background": "light"
     },
     "output_type": "display_data"
    }
   ],
   "source": [
    "plt.figure(dpi=125)\n",
    "sns.distplot(a=df_2021['age'],kde=False,bins=20,color='red')\n",
    "plt.axvline(x=np.mean(df_2021['age']),c='green',ls='--',label=\"Moyenne d'âge des joueurs français en 2021\")\n",
    "plt.legend()\n",
    "plt.xlabel('Age')\n",
    "plt.ylabel('Nombre')\n",
    "plt.title(\"Distribution de l'Age\")\n",
    "plt.show()"
   ]
  },
  {
   "cell_type": "markdown",
   "metadata": {},
   "source": [
    "D'après cet histogramme, la moyenne d'age des joueurs français en 2021 se situe quelque part entre 24 et 25 ans. Vérifions cela :"
   ]
  },
  {
   "cell_type": "code",
   "execution_count": 23,
   "metadata": {},
   "outputs": [
    {
     "data": {
      "text/plain": [
       "24.443089430894307"
      ]
     },
     "execution_count": 23,
     "metadata": {},
     "output_type": "execute_result"
    }
   ],
   "source": [
    "df_2021['age'].mean()"
   ]
  },
  {
   "cell_type": "markdown",
   "metadata": {},
   "source": [
    "Enfin, le tableau suivant montre les 2 \"meilleurs\" français, c'est-à-dire ceux qui ont les stats les plus élevées parmi 8 critères (colonnes) que j'ai choisi. On aurait pu les comparer selon d'autres attributs."
   ]
  },
  {
   "cell_type": "code",
   "execution_count": 24,
   "metadata": {
    "scrolled": true
   },
   "outputs": [
    {
     "data": {
      "text/html": [
       "<div>\n",
       "<style scoped>\n",
       "    .dataframe tbody tr th:only-of-type {\n",
       "        vertical-align: middle;\n",
       "    }\n",
       "\n",
       "    .dataframe tbody tr th {\n",
       "        vertical-align: top;\n",
       "    }\n",
       "\n",
       "    .dataframe thead th {\n",
       "        text-align: right;\n",
       "    }\n",
       "</style>\n",
       "<table border=\"1\" class=\"dataframe\">\n",
       "  <thead>\n",
       "    <tr style=\"text-align: right;\">\n",
       "      <th></th>\n",
       "      <th>overall</th>\n",
       "      <th>potential</th>\n",
       "      <th>pace</th>\n",
       "      <th>shooting</th>\n",
       "      <th>passing</th>\n",
       "      <th>dribbling</th>\n",
       "      <th>defending</th>\n",
       "      <th>physic</th>\n",
       "    </tr>\n",
       "    <tr>\n",
       "      <th>short_name</th>\n",
       "      <th></th>\n",
       "      <th></th>\n",
       "      <th></th>\n",
       "      <th></th>\n",
       "      <th></th>\n",
       "      <th></th>\n",
       "      <th></th>\n",
       "      <th></th>\n",
       "    </tr>\n",
       "  </thead>\n",
       "  <tbody>\n",
       "    <tr>\n",
       "      <th>K. Mbappé</th>\n",
       "      <td>90</td>\n",
       "      <td>95</td>\n",
       "      <td>96.0</td>\n",
       "      <td>86.0</td>\n",
       "      <td>78.0</td>\n",
       "      <td>91.0</td>\n",
       "      <td>39.0</td>\n",
       "      <td>76.0</td>\n",
       "    </tr>\n",
       "    <tr>\n",
       "      <th>K. Benzema</th>\n",
       "      <td>89</td>\n",
       "      <td>89</td>\n",
       "      <td>74.0</td>\n",
       "      <td>85.0</td>\n",
       "      <td>81.0</td>\n",
       "      <td>86.0</td>\n",
       "      <td>40.0</td>\n",
       "      <td>76.0</td>\n",
       "    </tr>\n",
       "  </tbody>\n",
       "</table>\n",
       "</div>"
      ],
      "text/plain": [
       "            overall  potential  pace  shooting  passing  dribbling  defending  \\\n",
       "short_name                                                                      \n",
       "K. Mbappé        90         95  96.0      86.0     78.0       91.0       39.0   \n",
       "K. Benzema       89         89  74.0      85.0     81.0       86.0       40.0   \n",
       "\n",
       "            physic  \n",
       "short_name          \n",
       "K. Mbappé     76.0  \n",
       "K. Benzema    76.0  "
      ]
     },
     "execution_count": 24,
     "metadata": {},
     "output_type": "execute_result"
    }
   ],
   "source": [
    "column_r=['short_name','overall','potential','pace','shooting','passing','dribbling','defending','physic']\n",
    "rival = df_2021.head(2)[column_r]\n",
    "rival = rival.set_index('short_name')\n",
    "rival.head()"
   ]
  },
  {
   "cell_type": "markdown",
   "metadata": {},
   "source": [
    "Le résultat nous montre que les deux meilleurs français selon mes critères sont Mbappe et Benzema. Intéressons-nous plus en détail à cette \"rivalité\". Le code suivant nous montre un graphique nous permettant de mieux apprécier les performances de chaque joueur :"
   ]
  },
  {
   "cell_type": "code",
   "execution_count": 25,
   "metadata": {},
   "outputs": [
    {
     "data": {
      "text/plain": [
       "[90.0, 95.0, 96.0, 86.0, 78.0, 91.0, 39.0, 76.0, 90.0]"
      ]
     },
     "execution_count": 25,
     "metadata": {},
     "output_type": "execute_result"
    }
   ],
   "source": [
    "values = rival.iloc[0].tolist()\n",
    "values += values [:1]\n",
    "values #On recupere ici les valeurs de chaque attribut de 'rival' car nous en aurons besoin pour le graphique"
   ]
  },
  {
   "cell_type": "code",
   "execution_count": 26,
   "metadata": {
    "scrolled": true
   },
   "outputs": [
    {
     "data": {
      "text/plain": [
       "[89.0, 89.0, 74.0, 85.0, 81.0, 86.0, 40.0, 76.0, 89.0]"
      ]
     },
     "execution_count": 26,
     "metadata": {},
     "output_type": "execute_result"
    }
   ],
   "source": [
    "values2 = rival.iloc[1].tolist()\n",
    "values2 += values2[:1]\n",
    "values2"
   ]
  },
  {
   "cell_type": "code",
   "execution_count": 27,
   "metadata": {},
   "outputs": [],
   "source": [
    "def RadarChart(player, data, player2, data2):\n",
    "    Attributes = [\"Overall\",\"Potential\",\"Pace\",\"Shooting\",\"Passing\",\"Dribbling\",\"Defending\",\"Physical\"]\n",
    "\n",
    "    data += data [:1]\n",
    "    data2 += data2 [:1]\n",
    "    \n",
    "    angles = [n / 8 * 2 * pi for n in range(8)]\n",
    "    angles += angles [:1]\n",
    "    \n",
    "    angles2 = [n / 8 * 2 * pi for n in range(8)]\n",
    "    angles2 += angles2 [:1]\n",
    "    \n",
    "    plt.figure(dpi=125)\n",
    "    ax = plt.subplot(111, polar=True)\n",
    "    ax = plt.subplot(111, polar=True)\n",
    "    \n",
    "    plt.xticks(angles[:-1],Attributes)\n",
    "\n",
    "    ax.plot(angles,values)\n",
    "    ax.fill(angles, values, 'teal', alpha=0.1)\n",
    "\n",
    "    ax.plot(angles2,values2)\n",
    "    ax.fill(angles2, values2, 'red', alpha=0.1)\n",
    "\n",
    "    plt.figtext(0.1,0.98,player,color=\"steelblue\")\n",
    "    plt.figtext(0.1,0.94,\"vs\")\n",
    "    plt.figtext(0.1,0.9,player2,color=\"darkorange\")\n",
    "    \n",
    "    plt.show()"
   ]
  },
  {
   "cell_type": "code",
   "execution_count": 28,
   "metadata": {},
   "outputs": [
    {
     "data": {
      "image/png": "[encoded data removed]",
      "text/plain": [
       "<Figure size 750x500 with 1 Axes>"
      ]
     },
     "metadata": {
      "needs_background": "light"
     },
     "output_type": "display_data"
    }
   ],
   "source": [
    "RadarChart('Mbappé',[90.0, 95.0, 96.0, 86.0, 78.0, 91.0, 39.0, 76.0, 90.0], \"Benzema\", [89.0, 89.0, 74.0, 85.0, 81.0, 86.0, 40.0, 76.0, 89.0])"
   ]
  },
  {
   "cell_type": "markdown",
   "metadata": {},
   "source": [
    "Sur ce graphique, les données de Mbappe sont représentées en bleu et celles de Benzema en orange. Il apparaît clairement que Mbappe est plus rapide (pace) et a un plus gros potentiel que Benzema (ce qui est tout à fait cohérent avec la réalité étant donné qu'il est plus jeune). Il est également légèrement meilleur en dribles."
   ]
  },
  {
   "cell_type": "markdown",
   "metadata": {},
   "source": [
    "## Réduction des données"
   ]
  },
  {
   "cell_type": "markdown",
   "metadata": {},
   "source": [
    "Revenons à nos données. Notre dataframe comporte 109 colonnes, ce qui est beaucoup. Nous allons donc choisir les colonnes qui nous semblent pertinentes pour répondre à notre problématique et ainsi réduire la taille de full_df.\n",
    "Le choix des colonnes retenues est le mien et peut différer d'une personne à une autre."
   ]
  },
  {
   "cell_type": "code",
   "execution_count": 29,
   "metadata": {},
   "outputs": [],
   "source": [
    "full_df = full_df[['long_name',\n",
    "'age',\n",
    "'team_position', #poste du joueur dans son club\n",
    "'player_positions', #postes auxquels peut jouer le joueur\n",
    "'club_name',\n",
    "'overall',\n",
    "'potential',\n",
    "'pace',\n",
    "'shooting',\n",
    "'passing',\n",
    "'dribbling',\n",
    "'physic',\n",
    "'gk_diving',\n",
    "'gk_handling',\n",
    "'gk_kicking',\n",
    "'gk_reflexes',\n",
    "'gk_speed',\n",
    "'gk_positioning',\n",
    "'attacking_crossing',\n",
    "'attacking_finishing',\n",
    "'attacking_heading_accuracy',\n",
    "'attacking_volleys',\n",
    "'skill_dribbling',\n",
    "'skill_curve',\n",
    "'skill_long_passing',\n",
    "'skill_ball_control',\n",
    "'movement_acceleration',\n",
    "'movement_sprint_speed',\n",
    "'movement_agility',\n",
    "'movement_balance',\n",
    "'power_shot_power',\n",
    "'power_jumping',\n",
    "'power_stamina',\n",
    "'power_strength',\n",
    "'power_long_shots',\n",
    "'mentality_aggression',\n",
    "'mentality_positioning',\n",
    "'mentality_vision',\n",
    "'mentality_penalties',\n",
    "'mentality_composure',\n",
    "'defending_marking',\n",
    "'defending_standing_tackle',\n",
    "'defending_sliding_tackle',\n",
    "'selected']]"
   ]
  },
  {
   "cell_type": "code",
   "execution_count": 30,
   "metadata": {
    "scrolled": true
   },
   "outputs": [
    {
     "data": {
      "text/plain": [
       "(6764, 44)"
      ]
     },
     "execution_count": 30,
     "metadata": {},
     "output_type": "execute_result"
    }
   ],
   "source": [
    "full_df.shape # Il ne nous reste plus que 44 colonnes"
   ]
  },
  {
   "cell_type": "code",
   "execution_count": 31,
   "metadata": {},
   "outputs": [
    {
     "data": {
      "text/html": [
       "<div>\n",
       "<style scoped>\n",
       "    .dataframe tbody tr th:only-of-type {\n",
       "        vertical-align: middle;\n",
       "    }\n",
       "\n",
       "    .dataframe tbody tr th {\n",
       "        vertical-align: top;\n",
       "    }\n",
       "\n",
       "    .dataframe thead th {\n",
       "        text-align: right;\n",
       "    }\n",
       "</style>\n",
       "<table border=\"1\" class=\"dataframe\">\n",
       "  <thead>\n",
       "    <tr style=\"text-align: right;\">\n",
       "      <th></th>\n",
       "      <th>long_name</th>\n",
       "      <th>age</th>\n",
       "      <th>team_position</th>\n",
       "      <th>player_positions</th>\n",
       "      <th>club_name</th>\n",
       "      <th>overall</th>\n",
       "      <th>potential</th>\n",
       "      <th>pace</th>\n",
       "      <th>shooting</th>\n",
       "      <th>passing</th>\n",
       "      <th>...</th>\n",
       "      <th>power_long_shots</th>\n",
       "      <th>mentality_aggression</th>\n",
       "      <th>mentality_positioning</th>\n",
       "      <th>mentality_vision</th>\n",
       "      <th>mentality_penalties</th>\n",
       "      <th>mentality_composure</th>\n",
       "      <th>defending_marking</th>\n",
       "      <th>defending_standing_tackle</th>\n",
       "      <th>defending_sliding_tackle</th>\n",
       "      <th>selected</th>\n",
       "    </tr>\n",
       "  </thead>\n",
       "  <tbody>\n",
       "    <tr>\n",
       "      <th>0</th>\n",
       "      <td>franck bilal ribery</td>\n",
       "      <td>31</td>\n",
       "      <td>SUB</td>\n",
       "      <td>LM</td>\n",
       "      <td>FC Bayern München</td>\n",
       "      <td>88</td>\n",
       "      <td>88</td>\n",
       "      <td>89.0</td>\n",
       "      <td>78.0</td>\n",
       "      <td>85.0</td>\n",
       "      <td>...</td>\n",
       "      <td>73</td>\n",
       "      <td>52</td>\n",
       "      <td>83</td>\n",
       "      <td>88</td>\n",
       "      <td>80</td>\n",
       "      <td>NaN</td>\n",
       "      <td>25.0</td>\n",
       "      <td>25</td>\n",
       "      <td>26</td>\n",
       "      <td>0.0</td>\n",
       "    </tr>\n",
       "    <tr>\n",
       "      <th>1</th>\n",
       "      <td>karim benzema</td>\n",
       "      <td>26</td>\n",
       "      <td>ST</td>\n",
       "      <td>ST</td>\n",
       "      <td>Real Madrid</td>\n",
       "      <td>85</td>\n",
       "      <td>87</td>\n",
       "      <td>84.0</td>\n",
       "      <td>84.0</td>\n",
       "      <td>75.0</td>\n",
       "      <td>...</td>\n",
       "      <td>78</td>\n",
       "      <td>65</td>\n",
       "      <td>87</td>\n",
       "      <td>81</td>\n",
       "      <td>82</td>\n",
       "      <td>NaN</td>\n",
       "      <td>25.0</td>\n",
       "      <td>25</td>\n",
       "      <td>25</td>\n",
       "      <td>1.0</td>\n",
       "    </tr>\n",
       "    <tr>\n",
       "      <th>2</th>\n",
       "      <td>hugo lloris</td>\n",
       "      <td>27</td>\n",
       "      <td>GK</td>\n",
       "      <td>GK</td>\n",
       "      <td>Tottenham Hotspur</td>\n",
       "      <td>85</td>\n",
       "      <td>86</td>\n",
       "      <td>NaN</td>\n",
       "      <td>NaN</td>\n",
       "      <td>NaN</td>\n",
       "      <td>...</td>\n",
       "      <td>25</td>\n",
       "      <td>31</td>\n",
       "      <td>25</td>\n",
       "      <td>25</td>\n",
       "      <td>40</td>\n",
       "      <td>NaN</td>\n",
       "      <td>25.0</td>\n",
       "      <td>25</td>\n",
       "      <td>25</td>\n",
       "      <td>1.0</td>\n",
       "    </tr>\n",
       "    <tr>\n",
       "      <th>3</th>\n",
       "      <td>samir nasri</td>\n",
       "      <td>27</td>\n",
       "      <td>SUB</td>\n",
       "      <td>LM, RM</td>\n",
       "      <td>Manchester City</td>\n",
       "      <td>84</td>\n",
       "      <td>86</td>\n",
       "      <td>79.0</td>\n",
       "      <td>76.0</td>\n",
       "      <td>84.0</td>\n",
       "      <td>...</td>\n",
       "      <td>77</td>\n",
       "      <td>33</td>\n",
       "      <td>81</td>\n",
       "      <td>85</td>\n",
       "      <td>81</td>\n",
       "      <td>NaN</td>\n",
       "      <td>35.0</td>\n",
       "      <td>37</td>\n",
       "      <td>44</td>\n",
       "      <td>0.0</td>\n",
       "    </tr>\n",
       "    <tr>\n",
       "      <th>4</th>\n",
       "      <td>paul pogba</td>\n",
       "      <td>21</td>\n",
       "      <td>LCM</td>\n",
       "      <td>CM, CAM</td>\n",
       "      <td>Juventus</td>\n",
       "      <td>83</td>\n",
       "      <td>89</td>\n",
       "      <td>76.0</td>\n",
       "      <td>78.0</td>\n",
       "      <td>79.0</td>\n",
       "      <td>...</td>\n",
       "      <td>88</td>\n",
       "      <td>85</td>\n",
       "      <td>77</td>\n",
       "      <td>83</td>\n",
       "      <td>67</td>\n",
       "      <td>NaN</td>\n",
       "      <td>63.0</td>\n",
       "      <td>79</td>\n",
       "      <td>83</td>\n",
       "      <td>1.0</td>\n",
       "    </tr>\n",
       "  </tbody>\n",
       "</table>\n",
       "<p>5 rows × 44 columns</p>\n",
       "</div>"
      ],
      "text/plain": [
       "             long_name  age team_position player_positions          club_name  \\\n",
       "0  franck bilal ribery   31           SUB               LM  FC Bayern München   \n",
       "1        karim benzema   26            ST               ST        Real Madrid   \n",
       "2          hugo lloris   27            GK               GK  Tottenham Hotspur   \n",
       "3          samir nasri   27           SUB           LM, RM    Manchester City   \n",
       "4           paul pogba   21           LCM          CM, CAM           Juventus   \n",
       "\n",
       "   overall  potential  pace  shooting  passing  ...  power_long_shots  \\\n",
       "0       88         88  89.0      78.0     85.0  ...                73   \n",
       "1       85         87  84.0      84.0     75.0  ...                78   \n",
       "2       85         86   NaN       NaN      NaN  ...                25   \n",
       "3       84         86  79.0      76.0     84.0  ...                77   \n",
       "4       83         89  76.0      78.0     79.0  ...                88   \n",
       "\n",
       "   mentality_aggression  mentality_positioning  mentality_vision  \\\n",
       "0                    52                     83                88   \n",
       "1                    65                     87                81   \n",
       "2                    31                     25                25   \n",
       "3                    33                     81                85   \n",
       "4                    85                     77                83   \n",
       "\n",
       "   mentality_penalties  mentality_composure  defending_marking  \\\n",
       "0                   80                  NaN               25.0   \n",
       "1                   82                  NaN               25.0   \n",
       "2                   40                  NaN               25.0   \n",
       "3                   81                  NaN               35.0   \n",
       "4                   67                  NaN               63.0   \n",
       "\n",
       "   defending_standing_tackle  defending_sliding_tackle  selected  \n",
       "0                         25                        26       0.0  \n",
       "1                         25                        25       1.0  \n",
       "2                         25                        25       1.0  \n",
       "3                         37                        44       0.0  \n",
       "4                         79                        83       1.0  \n",
       "\n",
       "[5 rows x 44 columns]"
      ]
     },
     "execution_count": 31,
     "metadata": {},
     "output_type": "execute_result"
    }
   ],
   "source": [
    "full_df.head()"
   ]
  },
  {
   "cell_type": "code",
   "execution_count": 32,
   "metadata": {
    "scrolled": true
   },
   "outputs": [
    {
     "data": {
      "text/html": [
       "<div>\n",
       "<style scoped>\n",
       "    .dataframe tbody tr th:only-of-type {\n",
       "        vertical-align: middle;\n",
       "    }\n",
       "\n",
       "    .dataframe tbody tr th {\n",
       "        vertical-align: top;\n",
       "    }\n",
       "\n",
       "    .dataframe thead th {\n",
       "        text-align: right;\n",
       "    }\n",
       "</style>\n",
       "<table border=\"1\" class=\"dataframe\">\n",
       "  <thead>\n",
       "    <tr style=\"text-align: right;\">\n",
       "      <th></th>\n",
       "      <th>age</th>\n",
       "      <th>overall</th>\n",
       "      <th>potential</th>\n",
       "      <th>pace</th>\n",
       "      <th>shooting</th>\n",
       "      <th>passing</th>\n",
       "      <th>dribbling</th>\n",
       "      <th>physic</th>\n",
       "      <th>gk_diving</th>\n",
       "      <th>gk_handling</th>\n",
       "      <th>...</th>\n",
       "      <th>power_long_shots</th>\n",
       "      <th>mentality_aggression</th>\n",
       "      <th>mentality_positioning</th>\n",
       "      <th>mentality_vision</th>\n",
       "      <th>mentality_penalties</th>\n",
       "      <th>mentality_composure</th>\n",
       "      <th>defending_marking</th>\n",
       "      <th>defending_standing_tackle</th>\n",
       "      <th>defending_sliding_tackle</th>\n",
       "      <th>selected</th>\n",
       "    </tr>\n",
       "  </thead>\n",
       "  <tbody>\n",
       "    <tr>\n",
       "      <th>count</th>\n",
       "      <td>6764.000000</td>\n",
       "      <td>6764.00000</td>\n",
       "      <td>6764.000000</td>\n",
       "      <td>6021.000000</td>\n",
       "      <td>6021.000000</td>\n",
       "      <td>6021.000000</td>\n",
       "      <td>6021.000000</td>\n",
       "      <td>6021.000000</td>\n",
       "      <td>743.000000</td>\n",
       "      <td>743.000000</td>\n",
       "      <td>...</td>\n",
       "      <td>6764.000000</td>\n",
       "      <td>6764.000000</td>\n",
       "      <td>6764.000000</td>\n",
       "      <td>6764.000000</td>\n",
       "      <td>6764.000000</td>\n",
       "      <td>4901.000000</td>\n",
       "      <td>4776.000000</td>\n",
       "      <td>6764.000000</td>\n",
       "      <td>6764.000000</td>\n",
       "      <td>6764.000000</td>\n",
       "    </tr>\n",
       "    <tr>\n",
       "      <th>mean</th>\n",
       "      <td>24.553223</td>\n",
       "      <td>66.86709</td>\n",
       "      <td>72.531342</td>\n",
       "      <td>67.682943</td>\n",
       "      <td>52.016941</td>\n",
       "      <td>58.505066</td>\n",
       "      <td>62.869955</td>\n",
       "      <td>65.026906</td>\n",
       "      <td>66.670256</td>\n",
       "      <td>63.627187</td>\n",
       "      <td>...</td>\n",
       "      <td>46.943081</td>\n",
       "      <td>56.330574</td>\n",
       "      <td>49.711561</td>\n",
       "      <td>53.236694</td>\n",
       "      <td>49.912921</td>\n",
       "      <td>58.701694</td>\n",
       "      <td>46.455611</td>\n",
       "      <td>49.283116</td>\n",
       "      <td>47.399172</td>\n",
       "      <td>0.029273</td>\n",
       "    </tr>\n",
       "    <tr>\n",
       "      <th>std</th>\n",
       "      <td>4.684956</td>\n",
       "      <td>7.12128</td>\n",
       "      <td>6.450512</td>\n",
       "      <td>10.848058</td>\n",
       "      <td>14.450892</td>\n",
       "      <td>10.622229</td>\n",
       "      <td>10.568124</td>\n",
       "      <td>10.097183</td>\n",
       "      <td>7.488555</td>\n",
       "      <td>8.038798</td>\n",
       "      <td>...</td>\n",
       "      <td>18.942652</td>\n",
       "      <td>17.397514</td>\n",
       "      <td>19.262102</td>\n",
       "      <td>15.487428</td>\n",
       "      <td>15.676823</td>\n",
       "      <td>12.526021</td>\n",
       "      <td>21.576556</td>\n",
       "      <td>22.539061</td>\n",
       "      <td>22.081564</td>\n",
       "      <td>0.168582</td>\n",
       "    </tr>\n",
       "    <tr>\n",
       "      <th>min</th>\n",
       "      <td>16.000000</td>\n",
       "      <td>48.00000</td>\n",
       "      <td>53.000000</td>\n",
       "      <td>21.000000</td>\n",
       "      <td>18.000000</td>\n",
       "      <td>27.000000</td>\n",
       "      <td>22.000000</td>\n",
       "      <td>28.000000</td>\n",
       "      <td>46.000000</td>\n",
       "      <td>46.000000</td>\n",
       "      <td>...</td>\n",
       "      <td>5.000000</td>\n",
       "      <td>11.000000</td>\n",
       "      <td>2.000000</td>\n",
       "      <td>7.000000</td>\n",
       "      <td>7.000000</td>\n",
       "      <td>13.000000</td>\n",
       "      <td>5.000000</td>\n",
       "      <td>7.000000</td>\n",
       "      <td>5.000000</td>\n",
       "      <td>0.000000</td>\n",
       "    </tr>\n",
       "    <tr>\n",
       "      <th>25%</th>\n",
       "      <td>21.000000</td>\n",
       "      <td>62.00000</td>\n",
       "      <td>68.000000</td>\n",
       "      <td>62.000000</td>\n",
       "      <td>40.000000</td>\n",
       "      <td>52.000000</td>\n",
       "      <td>57.000000</td>\n",
       "      <td>58.000000</td>\n",
       "      <td>61.000000</td>\n",
       "      <td>58.000000</td>\n",
       "      <td>...</td>\n",
       "      <td>32.000000</td>\n",
       "      <td>44.000000</td>\n",
       "      <td>38.000000</td>\n",
       "      <td>43.000000</td>\n",
       "      <td>41.000000</td>\n",
       "      <td>51.000000</td>\n",
       "      <td>25.000000</td>\n",
       "      <td>26.000000</td>\n",
       "      <td>25.000000</td>\n",
       "      <td>0.000000</td>\n",
       "    </tr>\n",
       "    <tr>\n",
       "      <th>50%</th>\n",
       "      <td>24.000000</td>\n",
       "      <td>66.00000</td>\n",
       "      <td>72.000000</td>\n",
       "      <td>68.000000</td>\n",
       "      <td>54.000000</td>\n",
       "      <td>59.000000</td>\n",
       "      <td>64.000000</td>\n",
       "      <td>66.000000</td>\n",
       "      <td>66.000000</td>\n",
       "      <td>63.000000</td>\n",
       "      <td>...</td>\n",
       "      <td>50.000000</td>\n",
       "      <td>60.000000</td>\n",
       "      <td>54.000000</td>\n",
       "      <td>55.000000</td>\n",
       "      <td>51.000000</td>\n",
       "      <td>60.000000</td>\n",
       "      <td>52.000000</td>\n",
       "      <td>58.000000</td>\n",
       "      <td>56.000000</td>\n",
       "      <td>0.000000</td>\n",
       "    </tr>\n",
       "    <tr>\n",
       "      <th>75%</th>\n",
       "      <td>28.000000</td>\n",
       "      <td>72.00000</td>\n",
       "      <td>77.000000</td>\n",
       "      <td>75.000000</td>\n",
       "      <td>63.000000</td>\n",
       "      <td>66.000000</td>\n",
       "      <td>70.000000</td>\n",
       "      <td>72.000000</td>\n",
       "      <td>72.000000</td>\n",
       "      <td>69.000000</td>\n",
       "      <td>...</td>\n",
       "      <td>62.000000</td>\n",
       "      <td>70.000000</td>\n",
       "      <td>64.000000</td>\n",
       "      <td>65.000000</td>\n",
       "      <td>62.000000</td>\n",
       "      <td>67.000000</td>\n",
       "      <td>65.000000</td>\n",
       "      <td>68.000000</td>\n",
       "      <td>66.000000</td>\n",
       "      <td>0.000000</td>\n",
       "    </tr>\n",
       "    <tr>\n",
       "      <th>max</th>\n",
       "      <td>41.000000</td>\n",
       "      <td>90.00000</td>\n",
       "      <td>95.000000</td>\n",
       "      <td>96.000000</td>\n",
       "      <td>86.000000</td>\n",
       "      <td>87.000000</td>\n",
       "      <td>92.000000</td>\n",
       "      <td>89.000000</td>\n",
       "      <td>89.000000</td>\n",
       "      <td>87.000000</td>\n",
       "      <td>...</td>\n",
       "      <td>91.000000</td>\n",
       "      <td>92.000000</td>\n",
       "      <td>91.000000</td>\n",
       "      <td>88.000000</td>\n",
       "      <td>91.000000</td>\n",
       "      <td>90.000000</td>\n",
       "      <td>90.000000</td>\n",
       "      <td>91.000000</td>\n",
       "      <td>88.000000</td>\n",
       "      <td>1.000000</td>\n",
       "    </tr>\n",
       "  </tbody>\n",
       "</table>\n",
       "<p>8 rows × 40 columns</p>\n",
       "</div>"
      ],
      "text/plain": [
       "               age     overall    potential         pace     shooting  \\\n",
       "count  6764.000000  6764.00000  6764.000000  6021.000000  6021.000000   \n",
       "mean     24.553223    66.86709    72.531342    67.682943    52.016941   \n",
       "std       4.684956     7.12128     6.450512    10.848058    14.450892   \n",
       "min      16.000000    48.00000    53.000000    21.000000    18.000000   \n",
       "25%      21.000000    62.00000    68.000000    62.000000    40.000000   \n",
       "50%      24.000000    66.00000    72.000000    68.000000    54.000000   \n",
       "75%      28.000000    72.00000    77.000000    75.000000    63.000000   \n",
       "max      41.000000    90.00000    95.000000    96.000000    86.000000   \n",
       "\n",
       "           passing    dribbling       physic   gk_diving  gk_handling  ...  \\\n",
       "count  6021.000000  6021.000000  6021.000000  743.000000   743.000000  ...   \n",
       "mean     58.505066    62.869955    65.026906   66.670256    63.627187  ...   \n",
       "std      10.622229    10.568124    10.097183    7.488555     8.038798  ...   \n",
       "min      27.000000    22.000000    28.000000   46.000000    46.000000  ...   \n",
       "25%      52.000000    57.000000    58.000000   61.000000    58.000000  ...   \n",
       "50%      59.000000    64.000000    66.000000   66.000000    63.000000  ...   \n",
       "75%      66.000000    70.000000    72.000000   72.000000    69.000000  ...   \n",
       "max      87.000000    92.000000    89.000000   89.000000    87.000000  ...   \n",
       "\n",
       "       power_long_shots  mentality_aggression  mentality_positioning  \\\n",
       "count       6764.000000           6764.000000            6764.000000   \n",
       "mean          46.943081             56.330574              49.711561   \n",
       "std           18.942652             17.397514              19.262102   \n",
       "min            5.000000             11.000000               2.000000   \n",
       "25%           32.000000             44.000000              38.000000   \n",
       "50%           50.000000             60.000000              54.000000   \n",
       "75%           62.000000             70.000000              64.000000   \n",
       "max           91.000000             92.000000              91.000000   \n",
       "\n",
       "       mentality_vision  mentality_penalties  mentality_composure  \\\n",
       "count       6764.000000          6764.000000          4901.000000   \n",
       "mean          53.236694            49.912921            58.701694   \n",
       "std           15.487428            15.676823            12.526021   \n",
       "min            7.000000             7.000000            13.000000   \n",
       "25%           43.000000            41.000000            51.000000   \n",
       "50%           55.000000            51.000000            60.000000   \n",
       "75%           65.000000            62.000000            67.000000   \n",
       "max           88.000000            91.000000            90.000000   \n",
       "\n",
       "       defending_marking  defending_standing_tackle  defending_sliding_tackle  \\\n",
       "count        4776.000000                6764.000000               6764.000000   \n",
       "mean           46.455611                  49.283116                 47.399172   \n",
       "std            21.576556                  22.539061                 22.081564   \n",
       "min             5.000000                   7.000000                  5.000000   \n",
       "25%            25.000000                  26.000000                 25.000000   \n",
       "50%            52.000000                  58.000000                 56.000000   \n",
       "75%            65.000000                  68.000000                 66.000000   \n",
       "max            90.000000                  91.000000                 88.000000   \n",
       "\n",
       "          selected  \n",
       "count  6764.000000  \n",
       "mean      0.029273  \n",
       "std       0.168582  \n",
       "min       0.000000  \n",
       "25%       0.000000  \n",
       "50%       0.000000  \n",
       "75%       0.000000  \n",
       "max       1.000000  \n",
       "\n",
       "[8 rows x 40 columns]"
      ]
     },
     "execution_count": 32,
     "metadata": {},
     "output_type": "execute_result"
    }
   ],
   "source": [
    "full_df.describe()"
   ]
  },
  {
   "cell_type": "markdown",
   "metadata": {},
   "source": [
    "Il existe de nombreux postes (positions) au sein d'une équipe de foot. Par exemple, les postes d'arrières latéraux et de défenseurs centraux sont tous des positions de défense, mais ne se situent pas tous au même endroit sur un terrain. Dans la celulle suivante, pour simplifier tout cela, nous créons un dictionnaire avec 4 clés: \"gardien\", \"defense\", \"milieu\" et \"attaque\", auxquelles on va attribuer les différentes valeurs correspondant aux initiales de tous les postes existants (et que l'on retrouve dans notre dataframe)."
   ]
  },
  {
   "cell_type": "code",
   "execution_count": 33,
   "metadata": {},
   "outputs": [],
   "source": [
    "dict_position = {\n",
    "    'gardien':['GK'],\n",
    "    'defense':['LWB', 'LB', 'LCB', 'SW', 'CB', 'RCB', 'RB', 'RWB'],\n",
    "    'milieu':['LM', 'LCM','LDM','CM','CDM','RCM','RDM','RM','RWB','CAM','LAM'],\n",
    "    'attaque':['LW', 'LS', 'ST', 'CF', 'RS', 'RW']    \n",
    "}"
   ]
  },
  {
   "cell_type": "markdown",
   "metadata": {},
   "source": [
    "Dans la réalité, un joueur peut être en mesure de jouer à plusieurs postes différents. Plus précisément, il est possible qu'un joueur puisse jouer à la fois en tant que défenseur ou milieu de terrain par exemple, cela dépend du choix de l'entraineur. Ici, dans un soucis de simplification, nous allons considérer qu'un joueur ne peut être que soit un défenseur, soit un milieu, soit un attaquant (la question ne se pose pas pour un gardien de but) sans préciser son poste particulièrement. \n",
    "\n",
    "Pour ce faire, nous implémentons la fonction get_player_position_from_team_position(team_position) pour répartir les joueurs en fonction de leur poste dans leur club. Cette fonction prend en argument un poste (team_position) et parcours les valeurs du dictionnaire dict_position pour enfin retourner la clé correspondante.\n",
    "\n",
    "L'idée derrière cette manipulation est que l'on considère que le poste d'un joueur en équipe de France est le même que celui de son club."
   ]
  },
  {
   "cell_type": "code",
   "execution_count": 34,
   "metadata": {},
   "outputs": [],
   "source": [
    "def get_player_position_from_team_position(team_position:str):\n",
    "    for key, item in dict_position.items():\n",
    "        if team_position in item :\n",
    "            return key"
   ]
  },
  {
   "cell_type": "markdown",
   "metadata": {},
   "source": [
    "Dans la celulle suivante, on crée une nouvelle colonne \"poste\" qu'on remplit en appliquant get_player_position_from_team_position(team_position) à toutes les lignes de full_df :"
   ]
  },
  {
   "cell_type": "code",
   "execution_count": 35,
   "metadata": {},
   "outputs": [],
   "source": [
    "full_df['poste'] = full_df['team_position'].apply(lambda x: get_player_position_from_team_position(x))"
   ]
  },
  {
   "cell_type": "code",
   "execution_count": 36,
   "metadata": {},
   "outputs": [
    {
     "data": {
      "text/html": [
       "<div>\n",
       "<style scoped>\n",
       "    .dataframe tbody tr th:only-of-type {\n",
       "        vertical-align: middle;\n",
       "    }\n",
       "\n",
       "    .dataframe tbody tr th {\n",
       "        vertical-align: top;\n",
       "    }\n",
       "\n",
       "    .dataframe thead th {\n",
       "        text-align: right;\n",
       "    }\n",
       "</style>\n",
       "<table border=\"1\" class=\"dataframe\">\n",
       "  <thead>\n",
       "    <tr style=\"text-align: right;\">\n",
       "      <th></th>\n",
       "      <th>long_name</th>\n",
       "      <th>age</th>\n",
       "      <th>team_position</th>\n",
       "      <th>player_positions</th>\n",
       "      <th>club_name</th>\n",
       "      <th>overall</th>\n",
       "      <th>potential</th>\n",
       "      <th>pace</th>\n",
       "      <th>shooting</th>\n",
       "      <th>passing</th>\n",
       "      <th>...</th>\n",
       "      <th>mentality_aggression</th>\n",
       "      <th>mentality_positioning</th>\n",
       "      <th>mentality_vision</th>\n",
       "      <th>mentality_penalties</th>\n",
       "      <th>mentality_composure</th>\n",
       "      <th>defending_marking</th>\n",
       "      <th>defending_standing_tackle</th>\n",
       "      <th>defending_sliding_tackle</th>\n",
       "      <th>selected</th>\n",
       "      <th>poste</th>\n",
       "    </tr>\n",
       "  </thead>\n",
       "  <tbody>\n",
       "    <tr>\n",
       "      <th>0</th>\n",
       "      <td>franck bilal ribery</td>\n",
       "      <td>31</td>\n",
       "      <td>SUB</td>\n",
       "      <td>LM</td>\n",
       "      <td>FC Bayern München</td>\n",
       "      <td>88</td>\n",
       "      <td>88</td>\n",
       "      <td>89.0</td>\n",
       "      <td>78.0</td>\n",
       "      <td>85.0</td>\n",
       "      <td>...</td>\n",
       "      <td>52</td>\n",
       "      <td>83</td>\n",
       "      <td>88</td>\n",
       "      <td>80</td>\n",
       "      <td>NaN</td>\n",
       "      <td>25.0</td>\n",
       "      <td>25</td>\n",
       "      <td>26</td>\n",
       "      <td>0.0</td>\n",
       "      <td>None</td>\n",
       "    </tr>\n",
       "    <tr>\n",
       "      <th>1</th>\n",
       "      <td>karim benzema</td>\n",
       "      <td>26</td>\n",
       "      <td>ST</td>\n",
       "      <td>ST</td>\n",
       "      <td>Real Madrid</td>\n",
       "      <td>85</td>\n",
       "      <td>87</td>\n",
       "      <td>84.0</td>\n",
       "      <td>84.0</td>\n",
       "      <td>75.0</td>\n",
       "      <td>...</td>\n",
       "      <td>65</td>\n",
       "      <td>87</td>\n",
       "      <td>81</td>\n",
       "      <td>82</td>\n",
       "      <td>NaN</td>\n",
       "      <td>25.0</td>\n",
       "      <td>25</td>\n",
       "      <td>25</td>\n",
       "      <td>1.0</td>\n",
       "      <td>attaque</td>\n",
       "    </tr>\n",
       "    <tr>\n",
       "      <th>2</th>\n",
       "      <td>hugo lloris</td>\n",
       "      <td>27</td>\n",
       "      <td>GK</td>\n",
       "      <td>GK</td>\n",
       "      <td>Tottenham Hotspur</td>\n",
       "      <td>85</td>\n",
       "      <td>86</td>\n",
       "      <td>NaN</td>\n",
       "      <td>NaN</td>\n",
       "      <td>NaN</td>\n",
       "      <td>...</td>\n",
       "      <td>31</td>\n",
       "      <td>25</td>\n",
       "      <td>25</td>\n",
       "      <td>40</td>\n",
       "      <td>NaN</td>\n",
       "      <td>25.0</td>\n",
       "      <td>25</td>\n",
       "      <td>25</td>\n",
       "      <td>1.0</td>\n",
       "      <td>gardien</td>\n",
       "    </tr>\n",
       "  </tbody>\n",
       "</table>\n",
       "<p>3 rows × 45 columns</p>\n",
       "</div>"
      ],
      "text/plain": [
       "             long_name  age team_position player_positions          club_name  \\\n",
       "0  franck bilal ribery   31           SUB               LM  FC Bayern München   \n",
       "1        karim benzema   26            ST               ST        Real Madrid   \n",
       "2          hugo lloris   27            GK               GK  Tottenham Hotspur   \n",
       "\n",
       "   overall  potential  pace  shooting  passing  ...  mentality_aggression  \\\n",
       "0       88         88  89.0      78.0     85.0  ...                    52   \n",
       "1       85         87  84.0      84.0     75.0  ...                    65   \n",
       "2       85         86   NaN       NaN      NaN  ...                    31   \n",
       "\n",
       "   mentality_positioning  mentality_vision  mentality_penalties  \\\n",
       "0                     83                88                   80   \n",
       "1                     87                81                   82   \n",
       "2                     25                25                   40   \n",
       "\n",
       "   mentality_composure  defending_marking  defending_standing_tackle  \\\n",
       "0                  NaN               25.0                         25   \n",
       "1                  NaN               25.0                         25   \n",
       "2                  NaN               25.0                         25   \n",
       "\n",
       "   defending_sliding_tackle  selected    poste  \n",
       "0                        26       0.0     None  \n",
       "1                        25       1.0  attaque  \n",
       "2                        25       1.0  gardien  \n",
       "\n",
       "[3 rows x 45 columns]"
      ]
     },
     "execution_count": 36,
     "metadata": {},
     "output_type": "execute_result"
    }
   ],
   "source": [
    "full_df.head(3)"
   ]
  },
  {
   "cell_type": "markdown",
   "metadata": {},
   "source": [
    "La colonne \"poste\" a bien été ajoutée, mais on remarque qu'il y a des valeurs manquantes (pour Frank Ribéry par exemple). Cela arrive lorsqu'un joueur est remplaçant dans son club. On remplace dans un premier temps ces valeurs manquantes par \"unknown\"."
   ]
  },
  {
   "cell_type": "code",
   "execution_count": 37,
   "metadata": {},
   "outputs": [],
   "source": [
    "full_df['poste'].fillna('unknown', inplace=True)"
   ]
  },
  {
   "cell_type": "markdown",
   "metadata": {},
   "source": [
    "Le but à partir de maintenant est de remplir ces valeurs manquantes par de vraies valeurs. Comme je l'ai dit plus haut, il est tout à fait possible qu'un joueur soit en mesure de jouer à plusieurs postes, bien qu'il soit remplaçant dans son club. Dans notre dataframe, c'est la colonne \"player_positions\" qui nous indique tous les postes auquels peut jouer un joueur. Ici, nous implémentons une fonction get_position_from_player_position(player_position) qui prend en argument les postes des joueurs et qui renvoie une liste de ces postes."
   ]
  },
  {
   "cell_type": "code",
   "execution_count": 38,
   "metadata": {},
   "outputs": [],
   "source": [
    "def get_position_from_player_position (player_position: str):\n",
    "    return player_position.split(',')"
   ]
  },
  {
   "cell_type": "markdown",
   "metadata": {},
   "source": [
    "Une fois de plus, on crée une nouvelle colonne que l'on nomme \"list_player_positions\" que l'on remplit en appliquant pour chaque ligne la fonction get_position_from_player_position :"
   ]
  },
  {
   "cell_type": "code",
   "execution_count": 39,
   "metadata": {},
   "outputs": [],
   "source": [
    "full_df['list_player_positions'] = full_df['player_positions'].apply(lambda x: get_position_from_player_position(x))"
   ]
  },
  {
   "cell_type": "code",
   "execution_count": 40,
   "metadata": {},
   "outputs": [
    {
     "data": {
      "text/html": [
       "<div>\n",
       "<style scoped>\n",
       "    .dataframe tbody tr th:only-of-type {\n",
       "        vertical-align: middle;\n",
       "    }\n",
       "\n",
       "    .dataframe tbody tr th {\n",
       "        vertical-align: top;\n",
       "    }\n",
       "\n",
       "    .dataframe thead th {\n",
       "        text-align: right;\n",
       "    }\n",
       "</style>\n",
       "<table border=\"1\" class=\"dataframe\">\n",
       "  <thead>\n",
       "    <tr style=\"text-align: right;\">\n",
       "      <th></th>\n",
       "      <th>long_name</th>\n",
       "      <th>age</th>\n",
       "      <th>team_position</th>\n",
       "      <th>player_positions</th>\n",
       "      <th>club_name</th>\n",
       "      <th>overall</th>\n",
       "      <th>potential</th>\n",
       "      <th>pace</th>\n",
       "      <th>shooting</th>\n",
       "      <th>passing</th>\n",
       "      <th>...</th>\n",
       "      <th>mentality_positioning</th>\n",
       "      <th>mentality_vision</th>\n",
       "      <th>mentality_penalties</th>\n",
       "      <th>mentality_composure</th>\n",
       "      <th>defending_marking</th>\n",
       "      <th>defending_standing_tackle</th>\n",
       "      <th>defending_sliding_tackle</th>\n",
       "      <th>selected</th>\n",
       "      <th>poste</th>\n",
       "      <th>list_player_positions</th>\n",
       "    </tr>\n",
       "  </thead>\n",
       "  <tbody>\n",
       "    <tr>\n",
       "      <th>0</th>\n",
       "      <td>franck bilal ribery</td>\n",
       "      <td>31</td>\n",
       "      <td>SUB</td>\n",
       "      <td>LM</td>\n",
       "      <td>FC Bayern München</td>\n",
       "      <td>88</td>\n",
       "      <td>88</td>\n",
       "      <td>89.0</td>\n",
       "      <td>78.0</td>\n",
       "      <td>85.0</td>\n",
       "      <td>...</td>\n",
       "      <td>83</td>\n",
       "      <td>88</td>\n",
       "      <td>80</td>\n",
       "      <td>NaN</td>\n",
       "      <td>25.0</td>\n",
       "      <td>25</td>\n",
       "      <td>26</td>\n",
       "      <td>0.0</td>\n",
       "      <td>unknown</td>\n",
       "      <td>[LM]</td>\n",
       "    </tr>\n",
       "    <tr>\n",
       "      <th>1</th>\n",
       "      <td>karim benzema</td>\n",
       "      <td>26</td>\n",
       "      <td>ST</td>\n",
       "      <td>ST</td>\n",
       "      <td>Real Madrid</td>\n",
       "      <td>85</td>\n",
       "      <td>87</td>\n",
       "      <td>84.0</td>\n",
       "      <td>84.0</td>\n",
       "      <td>75.0</td>\n",
       "      <td>...</td>\n",
       "      <td>87</td>\n",
       "      <td>81</td>\n",
       "      <td>82</td>\n",
       "      <td>NaN</td>\n",
       "      <td>25.0</td>\n",
       "      <td>25</td>\n",
       "      <td>25</td>\n",
       "      <td>1.0</td>\n",
       "      <td>attaque</td>\n",
       "      <td>[ST]</td>\n",
       "    </tr>\n",
       "    <tr>\n",
       "      <th>2</th>\n",
       "      <td>hugo lloris</td>\n",
       "      <td>27</td>\n",
       "      <td>GK</td>\n",
       "      <td>GK</td>\n",
       "      <td>Tottenham Hotspur</td>\n",
       "      <td>85</td>\n",
       "      <td>86</td>\n",
       "      <td>NaN</td>\n",
       "      <td>NaN</td>\n",
       "      <td>NaN</td>\n",
       "      <td>...</td>\n",
       "      <td>25</td>\n",
       "      <td>25</td>\n",
       "      <td>40</td>\n",
       "      <td>NaN</td>\n",
       "      <td>25.0</td>\n",
       "      <td>25</td>\n",
       "      <td>25</td>\n",
       "      <td>1.0</td>\n",
       "      <td>gardien</td>\n",
       "      <td>[GK]</td>\n",
       "    </tr>\n",
       "    <tr>\n",
       "      <th>3</th>\n",
       "      <td>samir nasri</td>\n",
       "      <td>27</td>\n",
       "      <td>SUB</td>\n",
       "      <td>LM, RM</td>\n",
       "      <td>Manchester City</td>\n",
       "      <td>84</td>\n",
       "      <td>86</td>\n",
       "      <td>79.0</td>\n",
       "      <td>76.0</td>\n",
       "      <td>84.0</td>\n",
       "      <td>...</td>\n",
       "      <td>81</td>\n",
       "      <td>85</td>\n",
       "      <td>81</td>\n",
       "      <td>NaN</td>\n",
       "      <td>35.0</td>\n",
       "      <td>37</td>\n",
       "      <td>44</td>\n",
       "      <td>0.0</td>\n",
       "      <td>unknown</td>\n",
       "      <td>[LM,  RM]</td>\n",
       "    </tr>\n",
       "    <tr>\n",
       "      <th>4</th>\n",
       "      <td>paul pogba</td>\n",
       "      <td>21</td>\n",
       "      <td>LCM</td>\n",
       "      <td>CM, CAM</td>\n",
       "      <td>Juventus</td>\n",
       "      <td>83</td>\n",
       "      <td>89</td>\n",
       "      <td>76.0</td>\n",
       "      <td>78.0</td>\n",
       "      <td>79.0</td>\n",
       "      <td>...</td>\n",
       "      <td>77</td>\n",
       "      <td>83</td>\n",
       "      <td>67</td>\n",
       "      <td>NaN</td>\n",
       "      <td>63.0</td>\n",
       "      <td>79</td>\n",
       "      <td>83</td>\n",
       "      <td>1.0</td>\n",
       "      <td>milieu</td>\n",
       "      <td>[CM,  CAM]</td>\n",
       "    </tr>\n",
       "  </tbody>\n",
       "</table>\n",
       "<p>5 rows × 46 columns</p>\n",
       "</div>"
      ],
      "text/plain": [
       "             long_name  age team_position player_positions          club_name  \\\n",
       "0  franck bilal ribery   31           SUB               LM  FC Bayern München   \n",
       "1        karim benzema   26            ST               ST        Real Madrid   \n",
       "2          hugo lloris   27            GK               GK  Tottenham Hotspur   \n",
       "3          samir nasri   27           SUB           LM, RM    Manchester City   \n",
       "4           paul pogba   21           LCM          CM, CAM           Juventus   \n",
       "\n",
       "   overall  potential  pace  shooting  passing  ...  mentality_positioning  \\\n",
       "0       88         88  89.0      78.0     85.0  ...                     83   \n",
       "1       85         87  84.0      84.0     75.0  ...                     87   \n",
       "2       85         86   NaN       NaN      NaN  ...                     25   \n",
       "3       84         86  79.0      76.0     84.0  ...                     81   \n",
       "4       83         89  76.0      78.0     79.0  ...                     77   \n",
       "\n",
       "   mentality_vision  mentality_penalties  mentality_composure  \\\n",
       "0                88                   80                  NaN   \n",
       "1                81                   82                  NaN   \n",
       "2                25                   40                  NaN   \n",
       "3                85                   81                  NaN   \n",
       "4                83                   67                  NaN   \n",
       "\n",
       "   defending_marking  defending_standing_tackle  defending_sliding_tackle  \\\n",
       "0               25.0                         25                        26   \n",
       "1               25.0                         25                        25   \n",
       "2               25.0                         25                        25   \n",
       "3               35.0                         37                        44   \n",
       "4               63.0                         79                        83   \n",
       "\n",
       "   selected    poste  list_player_positions  \n",
       "0       0.0  unknown                   [LM]  \n",
       "1       1.0  attaque                   [ST]  \n",
       "2       1.0  gardien                   [GK]  \n",
       "3       0.0  unknown              [LM,  RM]  \n",
       "4       1.0   milieu             [CM,  CAM]  \n",
       "\n",
       "[5 rows x 46 columns]"
      ]
     },
     "execution_count": 40,
     "metadata": {},
     "output_type": "execute_result"
    }
   ],
   "source": [
    "full_df.head()"
   ]
  },
  {
   "cell_type": "markdown",
   "metadata": {},
   "source": [
    "On crée maintenant une colonne \"poste_provisoire\" que l'on remplit en appliquant la fonction get_player_position_from_team_position au PREMIER ÉLÉMENT de la liste. En faisant cela, on considère que le poste retenu d'un joueur est le premier qui apparait dans la liste : cela nous permet de trancher la question suivante: si un joueur peut jouer à la fois défenseur ou milieu par exemple, que choisir ?"
   ]
  },
  {
   "cell_type": "code",
   "execution_count": 41,
   "metadata": {},
   "outputs": [],
   "source": [
    "full_df['poste_provisoire'] = full_df['list_player_positions'].apply(lambda x: get_player_position_from_team_position(x[0]))"
   ]
  },
  {
   "cell_type": "code",
   "execution_count": 42,
   "metadata": {},
   "outputs": [
    {
     "data": {
      "text/html": [
       "<div>\n",
       "<style scoped>\n",
       "    .dataframe tbody tr th:only-of-type {\n",
       "        vertical-align: middle;\n",
       "    }\n",
       "\n",
       "    .dataframe tbody tr th {\n",
       "        vertical-align: top;\n",
       "    }\n",
       "\n",
       "    .dataframe thead th {\n",
       "        text-align: right;\n",
       "    }\n",
       "</style>\n",
       "<table border=\"1\" class=\"dataframe\">\n",
       "  <thead>\n",
       "    <tr style=\"text-align: right;\">\n",
       "      <th></th>\n",
       "      <th>long_name</th>\n",
       "      <th>age</th>\n",
       "      <th>team_position</th>\n",
       "      <th>player_positions</th>\n",
       "      <th>club_name</th>\n",
       "      <th>overall</th>\n",
       "      <th>potential</th>\n",
       "      <th>pace</th>\n",
       "      <th>shooting</th>\n",
       "      <th>passing</th>\n",
       "      <th>...</th>\n",
       "      <th>mentality_vision</th>\n",
       "      <th>mentality_penalties</th>\n",
       "      <th>mentality_composure</th>\n",
       "      <th>defending_marking</th>\n",
       "      <th>defending_standing_tackle</th>\n",
       "      <th>defending_sliding_tackle</th>\n",
       "      <th>selected</th>\n",
       "      <th>poste</th>\n",
       "      <th>list_player_positions</th>\n",
       "      <th>poste_provisoire</th>\n",
       "    </tr>\n",
       "  </thead>\n",
       "  <tbody>\n",
       "    <tr>\n",
       "      <th>0</th>\n",
       "      <td>franck bilal ribery</td>\n",
       "      <td>31</td>\n",
       "      <td>SUB</td>\n",
       "      <td>LM</td>\n",
       "      <td>FC Bayern München</td>\n",
       "      <td>88</td>\n",
       "      <td>88</td>\n",
       "      <td>89.0</td>\n",
       "      <td>78.0</td>\n",
       "      <td>85.0</td>\n",
       "      <td>...</td>\n",
       "      <td>88</td>\n",
       "      <td>80</td>\n",
       "      <td>NaN</td>\n",
       "      <td>25.0</td>\n",
       "      <td>25</td>\n",
       "      <td>26</td>\n",
       "      <td>0.0</td>\n",
       "      <td>unknown</td>\n",
       "      <td>[LM]</td>\n",
       "      <td>milieu</td>\n",
       "    </tr>\n",
       "    <tr>\n",
       "      <th>1</th>\n",
       "      <td>karim benzema</td>\n",
       "      <td>26</td>\n",
       "      <td>ST</td>\n",
       "      <td>ST</td>\n",
       "      <td>Real Madrid</td>\n",
       "      <td>85</td>\n",
       "      <td>87</td>\n",
       "      <td>84.0</td>\n",
       "      <td>84.0</td>\n",
       "      <td>75.0</td>\n",
       "      <td>...</td>\n",
       "      <td>81</td>\n",
       "      <td>82</td>\n",
       "      <td>NaN</td>\n",
       "      <td>25.0</td>\n",
       "      <td>25</td>\n",
       "      <td>25</td>\n",
       "      <td>1.0</td>\n",
       "      <td>attaque</td>\n",
       "      <td>[ST]</td>\n",
       "      <td>attaque</td>\n",
       "    </tr>\n",
       "    <tr>\n",
       "      <th>2</th>\n",
       "      <td>hugo lloris</td>\n",
       "      <td>27</td>\n",
       "      <td>GK</td>\n",
       "      <td>GK</td>\n",
       "      <td>Tottenham Hotspur</td>\n",
       "      <td>85</td>\n",
       "      <td>86</td>\n",
       "      <td>NaN</td>\n",
       "      <td>NaN</td>\n",
       "      <td>NaN</td>\n",
       "      <td>...</td>\n",
       "      <td>25</td>\n",
       "      <td>40</td>\n",
       "      <td>NaN</td>\n",
       "      <td>25.0</td>\n",
       "      <td>25</td>\n",
       "      <td>25</td>\n",
       "      <td>1.0</td>\n",
       "      <td>gardien</td>\n",
       "      <td>[GK]</td>\n",
       "      <td>gardien</td>\n",
       "    </tr>\n",
       "    <tr>\n",
       "      <th>3</th>\n",
       "      <td>samir nasri</td>\n",
       "      <td>27</td>\n",
       "      <td>SUB</td>\n",
       "      <td>LM, RM</td>\n",
       "      <td>Manchester City</td>\n",
       "      <td>84</td>\n",
       "      <td>86</td>\n",
       "      <td>79.0</td>\n",
       "      <td>76.0</td>\n",
       "      <td>84.0</td>\n",
       "      <td>...</td>\n",
       "      <td>85</td>\n",
       "      <td>81</td>\n",
       "      <td>NaN</td>\n",
       "      <td>35.0</td>\n",
       "      <td>37</td>\n",
       "      <td>44</td>\n",
       "      <td>0.0</td>\n",
       "      <td>unknown</td>\n",
       "      <td>[LM,  RM]</td>\n",
       "      <td>milieu</td>\n",
       "    </tr>\n",
       "    <tr>\n",
       "      <th>4</th>\n",
       "      <td>paul pogba</td>\n",
       "      <td>21</td>\n",
       "      <td>LCM</td>\n",
       "      <td>CM, CAM</td>\n",
       "      <td>Juventus</td>\n",
       "      <td>83</td>\n",
       "      <td>89</td>\n",
       "      <td>76.0</td>\n",
       "      <td>78.0</td>\n",
       "      <td>79.0</td>\n",
       "      <td>...</td>\n",
       "      <td>83</td>\n",
       "      <td>67</td>\n",
       "      <td>NaN</td>\n",
       "      <td>63.0</td>\n",
       "      <td>79</td>\n",
       "      <td>83</td>\n",
       "      <td>1.0</td>\n",
       "      <td>milieu</td>\n",
       "      <td>[CM,  CAM]</td>\n",
       "      <td>milieu</td>\n",
       "    </tr>\n",
       "  </tbody>\n",
       "</table>\n",
       "<p>5 rows × 47 columns</p>\n",
       "</div>"
      ],
      "text/plain": [
       "             long_name  age team_position player_positions          club_name  \\\n",
       "0  franck bilal ribery   31           SUB               LM  FC Bayern München   \n",
       "1        karim benzema   26            ST               ST        Real Madrid   \n",
       "2          hugo lloris   27            GK               GK  Tottenham Hotspur   \n",
       "3          samir nasri   27           SUB           LM, RM    Manchester City   \n",
       "4           paul pogba   21           LCM          CM, CAM           Juventus   \n",
       "\n",
       "   overall  potential  pace  shooting  passing  ...  mentality_vision  \\\n",
       "0       88         88  89.0      78.0     85.0  ...                88   \n",
       "1       85         87  84.0      84.0     75.0  ...                81   \n",
       "2       85         86   NaN       NaN      NaN  ...                25   \n",
       "3       84         86  79.0      76.0     84.0  ...                85   \n",
       "4       83         89  76.0      78.0     79.0  ...                83   \n",
       "\n",
       "   mentality_penalties  mentality_composure  defending_marking  \\\n",
       "0                   80                  NaN               25.0   \n",
       "1                   82                  NaN               25.0   \n",
       "2                   40                  NaN               25.0   \n",
       "3                   81                  NaN               35.0   \n",
       "4                   67                  NaN               63.0   \n",
       "\n",
       "   defending_standing_tackle  defending_sliding_tackle  selected    poste  \\\n",
       "0                         25                        26       0.0  unknown   \n",
       "1                         25                        25       1.0  attaque   \n",
       "2                         25                        25       1.0  gardien   \n",
       "3                         37                        44       0.0  unknown   \n",
       "4                         79                        83       1.0   milieu   \n",
       "\n",
       "   list_player_positions  poste_provisoire  \n",
       "0                   [LM]            milieu  \n",
       "1                   [ST]           attaque  \n",
       "2                   [GK]           gardien  \n",
       "3              [LM,  RM]            milieu  \n",
       "4             [CM,  CAM]            milieu  \n",
       "\n",
       "[5 rows x 47 columns]"
      ]
     },
     "execution_count": 42,
     "metadata": {},
     "output_type": "execute_result"
    }
   ],
   "source": [
    "full_df.head()"
   ]
  },
  {
   "cell_type": "markdown",
   "metadata": {},
   "source": [
    "Enfin, on remplace les valeurs \"unknown\" dans la colonne poste par les valeurs de poste_provisoire :"
   ]
  },
  {
   "cell_type": "code",
   "execution_count": 43,
   "metadata": {},
   "outputs": [],
   "source": [
    "full_df['poste'] = np.where(full_df['poste']== 'unknown', full_df['poste_provisoire'],full_df['poste'])"
   ]
  },
  {
   "cell_type": "markdown",
   "metadata": {},
   "source": [
    "On peut maintenant supprimer les colonnes 'list_player_positions' et 'poste_provisoire' créées artificiellement."
   ]
  },
  {
   "cell_type": "code",
   "execution_count": 44,
   "metadata": {},
   "outputs": [],
   "source": [
    "full_df = full_df.drop(columns=['list_player_positions','poste_provisoire'])"
   ]
  },
  {
   "cell_type": "code",
   "execution_count": 45,
   "metadata": {},
   "outputs": [
    {
     "data": {
      "text/html": [
       "<div>\n",
       "<style scoped>\n",
       "    .dataframe tbody tr th:only-of-type {\n",
       "        vertical-align: middle;\n",
       "    }\n",
       "\n",
       "    .dataframe tbody tr th {\n",
       "        vertical-align: top;\n",
       "    }\n",
       "\n",
       "    .dataframe thead th {\n",
       "        text-align: right;\n",
       "    }\n",
       "</style>\n",
       "<table border=\"1\" class=\"dataframe\">\n",
       "  <thead>\n",
       "    <tr style=\"text-align: right;\">\n",
       "      <th></th>\n",
       "      <th>long_name</th>\n",
       "      <th>age</th>\n",
       "      <th>team_position</th>\n",
       "      <th>player_positions</th>\n",
       "      <th>club_name</th>\n",
       "      <th>overall</th>\n",
       "      <th>potential</th>\n",
       "      <th>pace</th>\n",
       "      <th>shooting</th>\n",
       "      <th>passing</th>\n",
       "      <th>...</th>\n",
       "      <th>mentality_aggression</th>\n",
       "      <th>mentality_positioning</th>\n",
       "      <th>mentality_vision</th>\n",
       "      <th>mentality_penalties</th>\n",
       "      <th>mentality_composure</th>\n",
       "      <th>defending_marking</th>\n",
       "      <th>defending_standing_tackle</th>\n",
       "      <th>defending_sliding_tackle</th>\n",
       "      <th>selected</th>\n",
       "      <th>poste</th>\n",
       "    </tr>\n",
       "  </thead>\n",
       "  <tbody>\n",
       "    <tr>\n",
       "      <th>0</th>\n",
       "      <td>franck bilal ribery</td>\n",
       "      <td>31</td>\n",
       "      <td>SUB</td>\n",
       "      <td>LM</td>\n",
       "      <td>FC Bayern München</td>\n",
       "      <td>88</td>\n",
       "      <td>88</td>\n",
       "      <td>89.0</td>\n",
       "      <td>78.0</td>\n",
       "      <td>85.0</td>\n",
       "      <td>...</td>\n",
       "      <td>52</td>\n",
       "      <td>83</td>\n",
       "      <td>88</td>\n",
       "      <td>80</td>\n",
       "      <td>NaN</td>\n",
       "      <td>25.0</td>\n",
       "      <td>25</td>\n",
       "      <td>26</td>\n",
       "      <td>0.0</td>\n",
       "      <td>milieu</td>\n",
       "    </tr>\n",
       "    <tr>\n",
       "      <th>1</th>\n",
       "      <td>karim benzema</td>\n",
       "      <td>26</td>\n",
       "      <td>ST</td>\n",
       "      <td>ST</td>\n",
       "      <td>Real Madrid</td>\n",
       "      <td>85</td>\n",
       "      <td>87</td>\n",
       "      <td>84.0</td>\n",
       "      <td>84.0</td>\n",
       "      <td>75.0</td>\n",
       "      <td>...</td>\n",
       "      <td>65</td>\n",
       "      <td>87</td>\n",
       "      <td>81</td>\n",
       "      <td>82</td>\n",
       "      <td>NaN</td>\n",
       "      <td>25.0</td>\n",
       "      <td>25</td>\n",
       "      <td>25</td>\n",
       "      <td>1.0</td>\n",
       "      <td>attaque</td>\n",
       "    </tr>\n",
       "    <tr>\n",
       "      <th>2</th>\n",
       "      <td>hugo lloris</td>\n",
       "      <td>27</td>\n",
       "      <td>GK</td>\n",
       "      <td>GK</td>\n",
       "      <td>Tottenham Hotspur</td>\n",
       "      <td>85</td>\n",
       "      <td>86</td>\n",
       "      <td>NaN</td>\n",
       "      <td>NaN</td>\n",
       "      <td>NaN</td>\n",
       "      <td>...</td>\n",
       "      <td>31</td>\n",
       "      <td>25</td>\n",
       "      <td>25</td>\n",
       "      <td>40</td>\n",
       "      <td>NaN</td>\n",
       "      <td>25.0</td>\n",
       "      <td>25</td>\n",
       "      <td>25</td>\n",
       "      <td>1.0</td>\n",
       "      <td>gardien</td>\n",
       "    </tr>\n",
       "  </tbody>\n",
       "</table>\n",
       "<p>3 rows × 45 columns</p>\n",
       "</div>"
      ],
      "text/plain": [
       "             long_name  age team_position player_positions          club_name  \\\n",
       "0  franck bilal ribery   31           SUB               LM  FC Bayern München   \n",
       "1        karim benzema   26            ST               ST        Real Madrid   \n",
       "2          hugo lloris   27            GK               GK  Tottenham Hotspur   \n",
       "\n",
       "   overall  potential  pace  shooting  passing  ...  mentality_aggression  \\\n",
       "0       88         88  89.0      78.0     85.0  ...                    52   \n",
       "1       85         87  84.0      84.0     75.0  ...                    65   \n",
       "2       85         86   NaN       NaN      NaN  ...                    31   \n",
       "\n",
       "   mentality_positioning  mentality_vision  mentality_penalties  \\\n",
       "0                     83                88                   80   \n",
       "1                     87                81                   82   \n",
       "2                     25                25                   40   \n",
       "\n",
       "   mentality_composure  defending_marking  defending_standing_tackle  \\\n",
       "0                  NaN               25.0                         25   \n",
       "1                  NaN               25.0                         25   \n",
       "2                  NaN               25.0                         25   \n",
       "\n",
       "   defending_sliding_tackle  selected    poste  \n",
       "0                        26       0.0   milieu  \n",
       "1                        25       1.0  attaque  \n",
       "2                        25       1.0  gardien  \n",
       "\n",
       "[3 rows x 45 columns]"
      ]
     },
     "execution_count": 45,
     "metadata": {},
     "output_type": "execute_result"
    }
   ],
   "source": [
    "full_df.head(3)"
   ]
  },
  {
   "cell_type": "markdown",
   "metadata": {},
   "source": [
    "Frank Ribéry et tous les autres joueurs remplaçants dans leurs clubs ont maintenant un poste: ils sont, conformément à ce que nous avons décidé plus haut, soit gardien de but, soit défenseur, milieu ou attaquant.\n",
    "\n",
    "Voyons la répartition des joueurs français selon leurs postes :"
   ]
  },
  {
   "cell_type": "code",
   "execution_count": 46,
   "metadata": {
    "scrolled": false
   },
   "outputs": [
    {
     "data": {
      "text/plain": [
       "milieu     2514\n",
       "defense    2248\n",
       "attaque    1259\n",
       "gardien     743\n",
       "Name: poste, dtype: int64"
      ]
     },
     "execution_count": 46,
     "metadata": {},
     "output_type": "execute_result"
    }
   ],
   "source": [
    "full_df['poste'].value_counts()"
   ]
  },
  {
   "cell_type": "markdown",
   "metadata": {},
   "source": [
    "Nous observons que, parmi les 6 764 joueurs français, il y a :\n",
    "- 743 gardiens de but,\n",
    "- 2248 défenseurs,\n",
    "- 2514 milieux de terrain,\n",
    "- 1259 attaquants.\n",
    "\n",
    "Nous allons créer un dataframe pour chacun de ces postes :"
   ]
  },
  {
   "cell_type": "code",
   "execution_count": 47,
   "metadata": {},
   "outputs": [],
   "source": [
    "gardien_df = full_df[full_df['poste']=='gardien']\n",
    "defense_df = full_df[full_df['poste']=='defense']\n",
    "milieu_df = full_df[full_df['poste']=='milieu']\n",
    "attaque_df = full_df[full_df['poste']=='attaque']"
   ]
  },
  {
   "cell_type": "markdown",
   "metadata": {},
   "source": [
    "Prenons pour exemple attaque_df. Affichons ses 5 premières lignes :"
   ]
  },
  {
   "cell_type": "code",
   "execution_count": 48,
   "metadata": {},
   "outputs": [
    {
     "data": {
      "text/html": [
       "<div>\n",
       "<style scoped>\n",
       "    .dataframe tbody tr th:only-of-type {\n",
       "        vertical-align: middle;\n",
       "    }\n",
       "\n",
       "    .dataframe tbody tr th {\n",
       "        vertical-align: top;\n",
       "    }\n",
       "\n",
       "    .dataframe thead th {\n",
       "        text-align: right;\n",
       "    }\n",
       "</style>\n",
       "<table border=\"1\" class=\"dataframe\">\n",
       "  <thead>\n",
       "    <tr style=\"text-align: right;\">\n",
       "      <th></th>\n",
       "      <th>long_name</th>\n",
       "      <th>age</th>\n",
       "      <th>team_position</th>\n",
       "      <th>player_positions</th>\n",
       "      <th>club_name</th>\n",
       "      <th>overall</th>\n",
       "      <th>potential</th>\n",
       "      <th>pace</th>\n",
       "      <th>shooting</th>\n",
       "      <th>passing</th>\n",
       "      <th>...</th>\n",
       "      <th>mentality_aggression</th>\n",
       "      <th>mentality_positioning</th>\n",
       "      <th>mentality_vision</th>\n",
       "      <th>mentality_penalties</th>\n",
       "      <th>mentality_composure</th>\n",
       "      <th>defending_marking</th>\n",
       "      <th>defending_standing_tackle</th>\n",
       "      <th>defending_sliding_tackle</th>\n",
       "      <th>selected</th>\n",
       "      <th>poste</th>\n",
       "    </tr>\n",
       "  </thead>\n",
       "  <tbody>\n",
       "    <tr>\n",
       "      <th>2</th>\n",
       "      <td>hugo lloris</td>\n",
       "      <td>27</td>\n",
       "      <td>GK</td>\n",
       "      <td>GK</td>\n",
       "      <td>Tottenham Hotspur</td>\n",
       "      <td>85</td>\n",
       "      <td>86</td>\n",
       "      <td>NaN</td>\n",
       "      <td>NaN</td>\n",
       "      <td>NaN</td>\n",
       "      <td>...</td>\n",
       "      <td>31</td>\n",
       "      <td>25</td>\n",
       "      <td>25</td>\n",
       "      <td>40</td>\n",
       "      <td>NaN</td>\n",
       "      <td>25.0</td>\n",
       "      <td>25</td>\n",
       "      <td>25</td>\n",
       "      <td>1.0</td>\n",
       "      <td>gardien</td>\n",
       "    </tr>\n",
       "    <tr>\n",
       "      <th>6</th>\n",
       "      <td>stephane ruffier</td>\n",
       "      <td>27</td>\n",
       "      <td>GK</td>\n",
       "      <td>GK</td>\n",
       "      <td>AS Saint-Étienne</td>\n",
       "      <td>83</td>\n",
       "      <td>84</td>\n",
       "      <td>NaN</td>\n",
       "      <td>NaN</td>\n",
       "      <td>NaN</td>\n",
       "      <td>...</td>\n",
       "      <td>31</td>\n",
       "      <td>25</td>\n",
       "      <td>25</td>\n",
       "      <td>25</td>\n",
       "      <td>NaN</td>\n",
       "      <td>25.0</td>\n",
       "      <td>25</td>\n",
       "      <td>25</td>\n",
       "      <td>1.0</td>\n",
       "      <td>gardien</td>\n",
       "    </tr>\n",
       "    <tr>\n",
       "      <th>9</th>\n",
       "      <td>steve mandanda</td>\n",
       "      <td>29</td>\n",
       "      <td>GK</td>\n",
       "      <td>GK</td>\n",
       "      <td>Olympique de Marseille</td>\n",
       "      <td>82</td>\n",
       "      <td>82</td>\n",
       "      <td>NaN</td>\n",
       "      <td>NaN</td>\n",
       "      <td>NaN</td>\n",
       "      <td>...</td>\n",
       "      <td>37</td>\n",
       "      <td>25</td>\n",
       "      <td>25</td>\n",
       "      <td>25</td>\n",
       "      <td>NaN</td>\n",
       "      <td>25.0</td>\n",
       "      <td>25</td>\n",
       "      <td>25</td>\n",
       "      <td>1.0</td>\n",
       "      <td>gardien</td>\n",
       "    </tr>\n",
       "    <tr>\n",
       "      <th>13</th>\n",
       "      <td>cedric carrasso</td>\n",
       "      <td>32</td>\n",
       "      <td>GK</td>\n",
       "      <td>GK</td>\n",
       "      <td>FC Girondins de Bordeaux</td>\n",
       "      <td>81</td>\n",
       "      <td>81</td>\n",
       "      <td>NaN</td>\n",
       "      <td>NaN</td>\n",
       "      <td>NaN</td>\n",
       "      <td>...</td>\n",
       "      <td>43</td>\n",
       "      <td>25</td>\n",
       "      <td>25</td>\n",
       "      <td>25</td>\n",
       "      <td>NaN</td>\n",
       "      <td>25.0</td>\n",
       "      <td>25</td>\n",
       "      <td>25</td>\n",
       "      <td>0.0</td>\n",
       "      <td>gardien</td>\n",
       "    </tr>\n",
       "    <tr>\n",
       "      <th>40</th>\n",
       "      <td>benoit costil</td>\n",
       "      <td>26</td>\n",
       "      <td>GK</td>\n",
       "      <td>GK</td>\n",
       "      <td>Stade Rennais FC</td>\n",
       "      <td>78</td>\n",
       "      <td>79</td>\n",
       "      <td>NaN</td>\n",
       "      <td>NaN</td>\n",
       "      <td>NaN</td>\n",
       "      <td>...</td>\n",
       "      <td>21</td>\n",
       "      <td>25</td>\n",
       "      <td>25</td>\n",
       "      <td>25</td>\n",
       "      <td>NaN</td>\n",
       "      <td>25.0</td>\n",
       "      <td>25</td>\n",
       "      <td>25</td>\n",
       "      <td>0.0</td>\n",
       "      <td>gardien</td>\n",
       "    </tr>\n",
       "  </tbody>\n",
       "</table>\n",
       "<p>5 rows × 45 columns</p>\n",
       "</div>"
      ],
      "text/plain": [
       "           long_name  age team_position player_positions  \\\n",
       "2        hugo lloris   27            GK               GK   \n",
       "6   stephane ruffier   27            GK               GK   \n",
       "9     steve mandanda   29            GK               GK   \n",
       "13   cedric carrasso   32            GK               GK   \n",
       "40     benoit costil   26            GK               GK   \n",
       "\n",
       "                   club_name  overall  potential  pace  shooting  passing  \\\n",
       "2          Tottenham Hotspur       85         86   NaN       NaN      NaN   \n",
       "6           AS Saint-Étienne       83         84   NaN       NaN      NaN   \n",
       "9     Olympique de Marseille       82         82   NaN       NaN      NaN   \n",
       "13  FC Girondins de Bordeaux       81         81   NaN       NaN      NaN   \n",
       "40          Stade Rennais FC       78         79   NaN       NaN      NaN   \n",
       "\n",
       "    ...  mentality_aggression  mentality_positioning  mentality_vision  \\\n",
       "2   ...                    31                     25                25   \n",
       "6   ...                    31                     25                25   \n",
       "9   ...                    37                     25                25   \n",
       "13  ...                    43                     25                25   \n",
       "40  ...                    21                     25                25   \n",
       "\n",
       "    mentality_penalties  mentality_composure  defending_marking  \\\n",
       "2                    40                  NaN               25.0   \n",
       "6                    25                  NaN               25.0   \n",
       "9                    25                  NaN               25.0   \n",
       "13                   25                  NaN               25.0   \n",
       "40                   25                  NaN               25.0   \n",
       "\n",
       "    defending_standing_tackle  defending_sliding_tackle  selected    poste  \n",
       "2                          25                        25       1.0  gardien  \n",
       "6                          25                        25       1.0  gardien  \n",
       "9                          25                        25       1.0  gardien  \n",
       "13                         25                        25       0.0  gardien  \n",
       "40                         25                        25       0.0  gardien  \n",
       "\n",
       "[5 rows x 45 columns]"
      ]
     },
     "execution_count": 48,
     "metadata": {},
     "output_type": "execute_result"
    }
   ],
   "source": [
    "gardien_df.head()"
   ]
  },
  {
   "cell_type": "markdown",
   "metadata": {},
   "source": [
    "On remarque que certaines colonnes sont entièrement vides (shooting, passing, etc). Cela est tout à fait normal : il n'existe pas de données concernant les passes ou les tirs au buts pour un gardien. De même, toutes les données relatives aux performances d'un gardien de but seront vides pour les autres postes. Nous allons donc, pour chaque dataframe que nous venons de créer, tout simplement supprimer les colonnes vides puisqu'elle ne nous fournissent aucune information."
   ]
  },
  {
   "cell_type": "code",
   "execution_count": 49,
   "metadata": {},
   "outputs": [
    {
     "name": "stdout",
     "output_type": "stream",
     "text": [
      "(743, 40) (2248, 39) (2514, 39) (1259, 39) (6764, 45)\n"
     ]
    }
   ],
   "source": [
    "gardien_df.dropna(axis=1, how='all', inplace=True)\n",
    "defense_df.dropna(axis= 1, how='all', inplace=True)\n",
    "milieu_df.dropna(axis= 1, how='all', inplace=True)\n",
    "attaque_df.dropna(axis= 1, how='all', inplace=True)\n",
    "\n",
    "print(gardien_df.shape, defense_df.shape, milieu_df.shape, attaque_df.shape, full_df.shape)"
   ]
  },
  {
   "cell_type": "markdown",
   "metadata": {},
   "source": [
    "Il résulte de cette manipulation que les tailles de chaque dataframe sont désormais différentes : le dataframe global full_df comporte 6 764 lignes et 45 colonnes tandis que gardien_df comporte 743 lignes pour 40 colonnes. Les autres dataframes ont 39 colonnes."
   ]
  },
  {
   "cell_type": "markdown",
   "metadata": {},
   "source": [
    "# Modèle pour le poste de défenseur"
   ]
  },
  {
   "cell_type": "markdown",
   "metadata": {},
   "source": [
    "Dans cette partie, nous nous proposons d'étudier en détails plusieurs modèles de classification pour le dataframe defense_df. Nous avons jugé plus pertinent de créer un modèle par position, car les critères de sélection diffèrent d'un poste à un autre."
   ]
  },
  {
   "cell_type": "code",
   "execution_count": 50,
   "metadata": {
    "scrolled": true
   },
   "outputs": [
    {
     "name": "stdout",
     "output_type": "stream",
     "text": [
      "<class 'pandas.core.frame.DataFrame'>\n",
      "Int64Index: 2248 entries, 10 to 6762\n",
      "Data columns (total 39 columns):\n",
      " #   Column                      Non-Null Count  Dtype  \n",
      "---  ------                      --------------  -----  \n",
      " 0   long_name                   2248 non-null   object \n",
      " 1   age                         2248 non-null   int64  \n",
      " 2   team_position               2248 non-null   object \n",
      " 3   player_positions            2248 non-null   object \n",
      " 4   club_name                   2248 non-null   object \n",
      " 5   overall                     2248 non-null   int64  \n",
      " 6   potential                   2248 non-null   int64  \n",
      " 7   pace                        2248 non-null   float64\n",
      " 8   shooting                    2248 non-null   float64\n",
      " 9   passing                     2248 non-null   float64\n",
      " 10  dribbling                   2248 non-null   float64\n",
      " 11  physic                      2248 non-null   float64\n",
      " 12  attacking_crossing          2248 non-null   int64  \n",
      " 13  attacking_finishing         2248 non-null   int64  \n",
      " 14  attacking_heading_accuracy  2248 non-null   int64  \n",
      " 15  attacking_volleys           2248 non-null   int64  \n",
      " 16  skill_dribbling             2248 non-null   int64  \n",
      " 17  skill_curve                 2248 non-null   int64  \n",
      " 18  skill_long_passing          2248 non-null   int64  \n",
      " 19  skill_ball_control          2248 non-null   int64  \n",
      " 20  movement_acceleration       2248 non-null   int64  \n",
      " 21  movement_sprint_speed       2248 non-null   int64  \n",
      " 22  movement_agility            2248 non-null   int64  \n",
      " 23  movement_balance            2248 non-null   int64  \n",
      " 24  power_shot_power            2248 non-null   int64  \n",
      " 25  power_jumping               2248 non-null   int64  \n",
      " 26  power_stamina               2248 non-null   int64  \n",
      " 27  power_strength              2248 non-null   int64  \n",
      " 28  power_long_shots            2248 non-null   int64  \n",
      " 29  mentality_aggression        2248 non-null   int64  \n",
      " 30  mentality_positioning       2248 non-null   int64  \n",
      " 31  mentality_vision            2248 non-null   int64  \n",
      " 32  mentality_penalties         2248 non-null   int64  \n",
      " 33  mentality_composure         1625 non-null   float64\n",
      " 34  defending_marking           1582 non-null   float64\n",
      " 35  defending_standing_tackle   2248 non-null   int64  \n",
      " 36  defending_sliding_tackle    2248 non-null   int64  \n",
      " 37  selected                    2248 non-null   float64\n",
      " 38  poste                       2248 non-null   object \n",
      "dtypes: float64(8), int64(26), object(5)\n",
      "memory usage: 702.5+ KB\n"
     ]
    }
   ],
   "source": [
    "defense_df.info()"
   ]
  },
  {
   "cell_type": "markdown",
   "metadata": {},
   "source": [
    "On rermarque que les colonnes mentality_composure et defending_marking comportent certaines valeurs manquantes. Notons que, généralement, lorsque les données FIFA sur un joueur sont incomplètes, c'est que le joueur en question est soit très jeune soit pratiquement inconnu. Sachant cela, étant donné que l'on travaille avec un dataframe regroupant les statistiques des joueurs sur plusieurs années, on décide de regrouper notre dataframe par joueurs (en faisant un groupby) et de remplir les valeurs manquantes par la moyenne des données de ce joueur pour l'attribut manquant. Dans le cas où aucune valeur n'existe, on remplit la valeur manquante par le minimum de tous les joueurs du df."
   ]
  },
  {
   "cell_type": "code",
   "execution_count": 51,
   "metadata": {},
   "outputs": [],
   "source": [
    "def fill_na_with_mean(grouped_df:pd.DataFrame):\n",
    "    return grouped_df.fillna(grouped_df.mean())"
   ]
  },
  {
   "cell_type": "code",
   "execution_count": 52,
   "metadata": {},
   "outputs": [],
   "source": [
    "defense_df  = defense_df.groupby('long_name').apply(fill_na_with_mean)"
   ]
  },
  {
   "cell_type": "code",
   "execution_count": 53,
   "metadata": {},
   "outputs": [],
   "source": [
    "def fill_nan_values_with_min(df : pd.DataFrame):\n",
    "    return df.fillna(df.min())"
   ]
  },
  {
   "cell_type": "code",
   "execution_count": 54,
   "metadata": {},
   "outputs": [],
   "source": [
    "defense_df = fill_nan_values_with_min(defense_df)"
   ]
  },
  {
   "cell_type": "code",
   "execution_count": 55,
   "metadata": {
    "scrolled": true
   },
   "outputs": [
    {
     "name": "stdout",
     "output_type": "stream",
     "text": [
      "<class 'pandas.core.frame.DataFrame'>\n",
      "MultiIndex: 2248 entries, ('aaron nassur kamardin', 6559) to ('zoumana camara', 135)\n",
      "Data columns (total 39 columns):\n",
      " #   Column                      Non-Null Count  Dtype  \n",
      "---  ------                      --------------  -----  \n",
      " 0   long_name                   2248 non-null   object \n",
      " 1   age                         2248 non-null   int64  \n",
      " 2   team_position               2248 non-null   object \n",
      " 3   player_positions            2248 non-null   object \n",
      " 4   club_name                   2248 non-null   object \n",
      " 5   overall                     2248 non-null   int64  \n",
      " 6   potential                   2248 non-null   int64  \n",
      " 7   pace                        2248 non-null   float64\n",
      " 8   shooting                    2248 non-null   float64\n",
      " 9   passing                     2248 non-null   float64\n",
      " 10  dribbling                   2248 non-null   float64\n",
      " 11  physic                      2248 non-null   float64\n",
      " 12  attacking_crossing          2248 non-null   int64  \n",
      " 13  attacking_finishing         2248 non-null   int64  \n",
      " 14  attacking_heading_accuracy  2248 non-null   int64  \n",
      " 15  attacking_volleys           2248 non-null   int64  \n",
      " 16  skill_dribbling             2248 non-null   int64  \n",
      " 17  skill_curve                 2248 non-null   int64  \n",
      " 18  skill_long_passing          2248 non-null   int64  \n",
      " 19  skill_ball_control          2248 non-null   int64  \n",
      " 20  movement_acceleration       2248 non-null   int64  \n",
      " 21  movement_sprint_speed       2248 non-null   int64  \n",
      " 22  movement_agility            2248 non-null   int64  \n",
      " 23  movement_balance            2248 non-null   int64  \n",
      " 24  power_shot_power            2248 non-null   int64  \n",
      " 25  power_jumping               2248 non-null   int64  \n",
      " 26  power_stamina               2248 non-null   int64  \n",
      " 27  power_strength              2248 non-null   int64  \n",
      " 28  power_long_shots            2248 non-null   int64  \n",
      " 29  mentality_aggression        2248 non-null   int64  \n",
      " 30  mentality_positioning       2248 non-null   int64  \n",
      " 31  mentality_vision            2248 non-null   int64  \n",
      " 32  mentality_penalties         2248 non-null   int64  \n",
      " 33  mentality_composure         2248 non-null   float64\n",
      " 34  defending_marking           2248 non-null   float64\n",
      " 35  defending_standing_tackle   2248 non-null   int64  \n",
      " 36  defending_sliding_tackle    2248 non-null   int64  \n",
      " 37  selected                    2248 non-null   float64\n",
      " 38  poste                       2248 non-null   object \n",
      "dtypes: float64(8), int64(26), object(5)\n",
      "memory usage: 797.4+ KB\n"
     ]
    }
   ],
   "source": [
    "defense_df.info()"
   ]
  },
  {
   "cell_type": "markdown",
   "metadata": {},
   "source": [
    "Il n'existe plus aucune valeur manquante. Nous allons maintenant remplacer toutes les variables catégorielles, notamment les noms des clubs, par des variables artificielles entières interprêtables par les modèles."
   ]
  },
  {
   "cell_type": "code",
   "execution_count": 56,
   "metadata": {},
   "outputs": [
    {
     "data": {
      "text/plain": [
       "272"
      ]
     },
     "execution_count": 56,
     "metadata": {},
     "output_type": "execute_result"
    }
   ],
   "source": [
    "#On affiche le nombre de clubs existants dans notre df\n",
    "defense_df['club_name'].nunique()"
   ]
  },
  {
   "cell_type": "code",
   "execution_count": 57,
   "metadata": {},
   "outputs": [],
   "source": [
    "dummies = pd.get_dummies(defense_df['club_name'], prefix='club', drop_first=True)\n",
    "#retourne un dataframe où les colonnes sont les noms des clubs.\n",
    "#Si un joueur appartient à un club alors il sera à 1 pour la colonne du club en question, 0 sinon."
   ]
  },
  {
   "cell_type": "code",
   "execution_count": 58,
   "metadata": {},
   "outputs": [
    {
     "data": {
      "text/html": [
       "<div>\n",
       "<style scoped>\n",
       "    .dataframe tbody tr th:only-of-type {\n",
       "        vertical-align: middle;\n",
       "    }\n",
       "\n",
       "    .dataframe tbody tr th {\n",
       "        vertical-align: top;\n",
       "    }\n",
       "\n",
       "    .dataframe thead th {\n",
       "        text-align: right;\n",
       "    }\n",
       "</style>\n",
       "<table border=\"1\" class=\"dataframe\">\n",
       "  <thead>\n",
       "    <tr style=\"text-align: right;\">\n",
       "      <th></th>\n",
       "      <th></th>\n",
       "      <th>club_AC Ajaccio</th>\n",
       "      <th>club_AC Arles Avignon</th>\n",
       "      <th>club_AJ Auxerre</th>\n",
       "      <th>club_AS Béziers</th>\n",
       "      <th>club_AS Monaco</th>\n",
       "      <th>club_AS Nancy Lorraine</th>\n",
       "      <th>club_AS Saint-Étienne</th>\n",
       "      <th>club_Albacete BP</th>\n",
       "      <th>club_Amiens SC</th>\n",
       "      <th>club_Amkar Perm</th>\n",
       "      <th>...</th>\n",
       "      <th>club_Vicenza</th>\n",
       "      <th>club_Vitória Guimarães</th>\n",
       "      <th>club_Waasland-Beveren</th>\n",
       "      <th>club_Watford</th>\n",
       "      <th>club_West Ham United</th>\n",
       "      <th>club_Wigan Athletic</th>\n",
       "      <th>club_Wolverhampton Wanderers</th>\n",
       "      <th>club_Yeni Malatyaspor</th>\n",
       "      <th>club_Çaykur Rizespor</th>\n",
       "      <th>club_Évian Thonon Gaillard FC</th>\n",
       "    </tr>\n",
       "    <tr>\n",
       "      <th>long_name</th>\n",
       "      <th></th>\n",
       "      <th></th>\n",
       "      <th></th>\n",
       "      <th></th>\n",
       "      <th></th>\n",
       "      <th></th>\n",
       "      <th></th>\n",
       "      <th></th>\n",
       "      <th></th>\n",
       "      <th></th>\n",
       "      <th></th>\n",
       "      <th></th>\n",
       "      <th></th>\n",
       "      <th></th>\n",
       "      <th></th>\n",
       "      <th></th>\n",
       "      <th></th>\n",
       "      <th></th>\n",
       "      <th></th>\n",
       "      <th></th>\n",
       "      <th></th>\n",
       "      <th></th>\n",
       "    </tr>\n",
       "  </thead>\n",
       "  <tbody>\n",
       "    <tr>\n",
       "      <th>aaron nassur kamardin</th>\n",
       "      <th>6559</th>\n",
       "      <td>0</td>\n",
       "      <td>0</td>\n",
       "      <td>0</td>\n",
       "      <td>0</td>\n",
       "      <td>0</td>\n",
       "      <td>0</td>\n",
       "      <td>0</td>\n",
       "      <td>0</td>\n",
       "      <td>0</td>\n",
       "      <td>0</td>\n",
       "      <td>...</td>\n",
       "      <td>0</td>\n",
       "      <td>0</td>\n",
       "      <td>0</td>\n",
       "      <td>0</td>\n",
       "      <td>0</td>\n",
       "      <td>0</td>\n",
       "      <td>0</td>\n",
       "      <td>0</td>\n",
       "      <td>0</td>\n",
       "      <td>0</td>\n",
       "    </tr>\n",
       "    <tr>\n",
       "      <th>abdel hakim abdallah</th>\n",
       "      <th>3800</th>\n",
       "      <td>0</td>\n",
       "      <td>0</td>\n",
       "      <td>0</td>\n",
       "      <td>0</td>\n",
       "      <td>0</td>\n",
       "      <td>0</td>\n",
       "      <td>0</td>\n",
       "      <td>0</td>\n",
       "      <td>0</td>\n",
       "      <td>0</td>\n",
       "      <td>...</td>\n",
       "      <td>0</td>\n",
       "      <td>0</td>\n",
       "      <td>0</td>\n",
       "      <td>0</td>\n",
       "      <td>0</td>\n",
       "      <td>0</td>\n",
       "      <td>0</td>\n",
       "      <td>0</td>\n",
       "      <td>0</td>\n",
       "      <td>0</td>\n",
       "    </tr>\n",
       "    <tr>\n",
       "      <th>abdou diallo</th>\n",
       "      <th>1515</th>\n",
       "      <td>0</td>\n",
       "      <td>0</td>\n",
       "      <td>0</td>\n",
       "      <td>0</td>\n",
       "      <td>0</td>\n",
       "      <td>0</td>\n",
       "      <td>0</td>\n",
       "      <td>0</td>\n",
       "      <td>0</td>\n",
       "      <td>0</td>\n",
       "      <td>...</td>\n",
       "      <td>0</td>\n",
       "      <td>0</td>\n",
       "      <td>0</td>\n",
       "      <td>0</td>\n",
       "      <td>0</td>\n",
       "      <td>0</td>\n",
       "      <td>0</td>\n",
       "      <td>0</td>\n",
       "      <td>0</td>\n",
       "      <td>0</td>\n",
       "    </tr>\n",
       "  </tbody>\n",
       "</table>\n",
       "<p>3 rows × 271 columns</p>\n",
       "</div>"
      ],
      "text/plain": [
       "                            club_AC Ajaccio  club_AC Arles Avignon  \\\n",
       "long_name                                                            \n",
       "aaron nassur kamardin 6559                0                      0   \n",
       "abdel hakim abdallah  3800                0                      0   \n",
       "abdou diallo          1515                0                      0   \n",
       "\n",
       "                            club_AJ Auxerre  club_AS Béziers  club_AS Monaco  \\\n",
       "long_name                                                                      \n",
       "aaron nassur kamardin 6559                0                0               0   \n",
       "abdel hakim abdallah  3800                0                0               0   \n",
       "abdou diallo          1515                0                0               0   \n",
       "\n",
       "                            club_AS Nancy Lorraine  club_AS Saint-Étienne  \\\n",
       "long_name                                                                   \n",
       "aaron nassur kamardin 6559                       0                      0   \n",
       "abdel hakim abdallah  3800                       0                      0   \n",
       "abdou diallo          1515                       0                      0   \n",
       "\n",
       "                            club_Albacete BP  club_Amiens SC  club_Amkar Perm  \\\n",
       "long_name                                                                       \n",
       "aaron nassur kamardin 6559                 0               0                0   \n",
       "abdel hakim abdallah  3800                 0               0                0   \n",
       "abdou diallo          1515                 0               0                0   \n",
       "\n",
       "                            ...  club_Vicenza  club_Vitória Guimarães  \\\n",
       "long_name                   ...                                         \n",
       "aaron nassur kamardin 6559  ...             0                       0   \n",
       "abdel hakim abdallah  3800  ...             0                       0   \n",
       "abdou diallo          1515  ...             0                       0   \n",
       "\n",
       "                            club_Waasland-Beveren  club_Watford  \\\n",
       "long_name                                                         \n",
       "aaron nassur kamardin 6559                      0             0   \n",
       "abdel hakim abdallah  3800                      0             0   \n",
       "abdou diallo          1515                      0             0   \n",
       "\n",
       "                            club_West Ham United  club_Wigan Athletic  \\\n",
       "long_name                                                               \n",
       "aaron nassur kamardin 6559                     0                    0   \n",
       "abdel hakim abdallah  3800                     0                    0   \n",
       "abdou diallo          1515                     0                    0   \n",
       "\n",
       "                            club_Wolverhampton Wanderers  \\\n",
       "long_name                                                  \n",
       "aaron nassur kamardin 6559                             0   \n",
       "abdel hakim abdallah  3800                             0   \n",
       "abdou diallo          1515                             0   \n",
       "\n",
       "                            club_Yeni Malatyaspor  club_Çaykur Rizespor  \\\n",
       "long_name                                                                 \n",
       "aaron nassur kamardin 6559                      0                     0   \n",
       "abdel hakim abdallah  3800                      0                     0   \n",
       "abdou diallo          1515                      0                     0   \n",
       "\n",
       "                            club_Évian Thonon Gaillard FC  \n",
       "long_name                                                  \n",
       "aaron nassur kamardin 6559                              0  \n",
       "abdel hakim abdallah  3800                              0  \n",
       "abdou diallo          1515                              0  \n",
       "\n",
       "[3 rows x 271 columns]"
      ]
     },
     "execution_count": 58,
     "metadata": {},
     "output_type": "execute_result"
    }
   ],
   "source": [
    "dummies.head(3)"
   ]
  },
  {
   "cell_type": "code",
   "execution_count": 59,
   "metadata": {},
   "outputs": [],
   "source": [
    "#On concatene les df defense_df et dummies\n",
    "defense_df= pd.concat([defense_df, dummies], axis=1)"
   ]
  },
  {
   "cell_type": "code",
   "execution_count": 60,
   "metadata": {},
   "outputs": [],
   "source": [
    "#On supprime la colonne club_name\n",
    "defense_df = defense_df.drop(columns=['club_name'])"
   ]
  },
  {
   "cell_type": "code",
   "execution_count": 61,
   "metadata": {},
   "outputs": [
    {
     "data": {
      "text/plain": [
       "Index(['long_name', 'age', 'team_position', 'player_positions', 'overall',\n",
       "       'potential', 'pace', 'shooting', 'passing', 'dribbling',\n",
       "       ...\n",
       "       'club_Vicenza', 'club_Vitória Guimarães', 'club_Waasland-Beveren',\n",
       "       'club_Watford', 'club_West Ham United', 'club_Wigan Athletic',\n",
       "       'club_Wolverhampton Wanderers', 'club_Yeni Malatyaspor',\n",
       "       'club_Çaykur Rizespor', 'club_Évian Thonon Gaillard FC'],\n",
       "      dtype='object', length=309)"
      ]
     },
     "execution_count": 61,
     "metadata": {},
     "output_type": "execute_result"
    }
   ],
   "source": [
    "defense_df.columns"
   ]
  },
  {
   "cell_type": "code",
   "execution_count": 62,
   "metadata": {},
   "outputs": [
    {
     "data": {
      "text/plain": [
       "(2248, 309)"
      ]
     },
     "execution_count": 62,
     "metadata": {},
     "output_type": "execute_result"
    }
   ],
   "source": [
    "defense_df.shape"
   ]
  },
  {
   "cell_type": "code",
   "execution_count": 63,
   "metadata": {},
   "outputs": [
    {
     "data": {
      "text/html": [
       "<div>\n",
       "<style scoped>\n",
       "    .dataframe tbody tr th:only-of-type {\n",
       "        vertical-align: middle;\n",
       "    }\n",
       "\n",
       "    .dataframe tbody tr th {\n",
       "        vertical-align: top;\n",
       "    }\n",
       "\n",
       "    .dataframe thead th {\n",
       "        text-align: right;\n",
       "    }\n",
       "</style>\n",
       "<table border=\"1\" class=\"dataframe\">\n",
       "  <thead>\n",
       "    <tr style=\"text-align: right;\">\n",
       "      <th></th>\n",
       "      <th></th>\n",
       "      <th>long_name</th>\n",
       "      <th>age</th>\n",
       "      <th>team_position</th>\n",
       "      <th>player_positions</th>\n",
       "      <th>overall</th>\n",
       "      <th>potential</th>\n",
       "      <th>pace</th>\n",
       "      <th>shooting</th>\n",
       "      <th>passing</th>\n",
       "      <th>dribbling</th>\n",
       "      <th>...</th>\n",
       "      <th>club_Vicenza</th>\n",
       "      <th>club_Vitória Guimarães</th>\n",
       "      <th>club_Waasland-Beveren</th>\n",
       "      <th>club_Watford</th>\n",
       "      <th>club_West Ham United</th>\n",
       "      <th>club_Wigan Athletic</th>\n",
       "      <th>club_Wolverhampton Wanderers</th>\n",
       "      <th>club_Yeni Malatyaspor</th>\n",
       "      <th>club_Çaykur Rizespor</th>\n",
       "      <th>club_Évian Thonon Gaillard FC</th>\n",
       "    </tr>\n",
       "    <tr>\n",
       "      <th>long_name</th>\n",
       "      <th></th>\n",
       "      <th></th>\n",
       "      <th></th>\n",
       "      <th></th>\n",
       "      <th></th>\n",
       "      <th></th>\n",
       "      <th></th>\n",
       "      <th></th>\n",
       "      <th></th>\n",
       "      <th></th>\n",
       "      <th></th>\n",
       "      <th></th>\n",
       "      <th></th>\n",
       "      <th></th>\n",
       "      <th></th>\n",
       "      <th></th>\n",
       "      <th></th>\n",
       "      <th></th>\n",
       "      <th></th>\n",
       "      <th></th>\n",
       "      <th></th>\n",
       "      <th></th>\n",
       "    </tr>\n",
       "  </thead>\n",
       "  <tbody>\n",
       "    <tr>\n",
       "      <th>aaron nassur kamardin</th>\n",
       "      <th>6559</th>\n",
       "      <td>aaron nassur kamardin</td>\n",
       "      <td>18</td>\n",
       "      <td>RES</td>\n",
       "      <td>CB</td>\n",
       "      <td>61</td>\n",
       "      <td>74</td>\n",
       "      <td>61.0</td>\n",
       "      <td>29.0</td>\n",
       "      <td>41.0</td>\n",
       "      <td>43.0</td>\n",
       "      <td>...</td>\n",
       "      <td>0</td>\n",
       "      <td>0</td>\n",
       "      <td>0</td>\n",
       "      <td>0</td>\n",
       "      <td>0</td>\n",
       "      <td>0</td>\n",
       "      <td>0</td>\n",
       "      <td>0</td>\n",
       "      <td>0</td>\n",
       "      <td>0</td>\n",
       "    </tr>\n",
       "    <tr>\n",
       "      <th>abdel hakim abdallah</th>\n",
       "      <th>3800</th>\n",
       "      <td>abdel hakim abdallah</td>\n",
       "      <td>19</td>\n",
       "      <td>RES</td>\n",
       "      <td>CB</td>\n",
       "      <td>52</td>\n",
       "      <td>63</td>\n",
       "      <td>53.0</td>\n",
       "      <td>26.0</td>\n",
       "      <td>29.0</td>\n",
       "      <td>32.0</td>\n",
       "      <td>...</td>\n",
       "      <td>0</td>\n",
       "      <td>0</td>\n",
       "      <td>0</td>\n",
       "      <td>0</td>\n",
       "      <td>0</td>\n",
       "      <td>0</td>\n",
       "      <td>0</td>\n",
       "      <td>0</td>\n",
       "      <td>0</td>\n",
       "      <td>0</td>\n",
       "    </tr>\n",
       "    <tr>\n",
       "      <th>abdou diallo</th>\n",
       "      <th>1515</th>\n",
       "      <td>abdou diallo</td>\n",
       "      <td>19</td>\n",
       "      <td>LCB</td>\n",
       "      <td>CB, CDM</td>\n",
       "      <td>64</td>\n",
       "      <td>72</td>\n",
       "      <td>60.0</td>\n",
       "      <td>32.0</td>\n",
       "      <td>46.0</td>\n",
       "      <td>49.0</td>\n",
       "      <td>...</td>\n",
       "      <td>0</td>\n",
       "      <td>0</td>\n",
       "      <td>0</td>\n",
       "      <td>0</td>\n",
       "      <td>0</td>\n",
       "      <td>0</td>\n",
       "      <td>0</td>\n",
       "      <td>0</td>\n",
       "      <td>0</td>\n",
       "      <td>0</td>\n",
       "    </tr>\n",
       "  </tbody>\n",
       "</table>\n",
       "<p>3 rows × 309 columns</p>\n",
       "</div>"
      ],
      "text/plain": [
       "                                        long_name  age team_position  \\\n",
       "long_name                                                              \n",
       "aaron nassur kamardin 6559  aaron nassur kamardin   18           RES   \n",
       "abdel hakim abdallah  3800   abdel hakim abdallah   19           RES   \n",
       "abdou diallo          1515           abdou diallo   19           LCB   \n",
       "\n",
       "                           player_positions  overall  potential  pace  \\\n",
       "long_name                                                               \n",
       "aaron nassur kamardin 6559               CB       61         74  61.0   \n",
       "abdel hakim abdallah  3800               CB       52         63  53.0   \n",
       "abdou diallo          1515          CB, CDM       64         72  60.0   \n",
       "\n",
       "                            shooting  passing  dribbling  ...  club_Vicenza  \\\n",
       "long_name                                                 ...                 \n",
       "aaron nassur kamardin 6559      29.0     41.0       43.0  ...             0   \n",
       "abdel hakim abdallah  3800      26.0     29.0       32.0  ...             0   \n",
       "abdou diallo          1515      32.0     46.0       49.0  ...             0   \n",
       "\n",
       "                            club_Vitória Guimarães  club_Waasland-Beveren  \\\n",
       "long_name                                                                   \n",
       "aaron nassur kamardin 6559                       0                      0   \n",
       "abdel hakim abdallah  3800                       0                      0   \n",
       "abdou diallo          1515                       0                      0   \n",
       "\n",
       "                            club_Watford  club_West Ham United  \\\n",
       "long_name                                                        \n",
       "aaron nassur kamardin 6559             0                     0   \n",
       "abdel hakim abdallah  3800             0                     0   \n",
       "abdou diallo          1515             0                     0   \n",
       "\n",
       "                            club_Wigan Athletic  club_Wolverhampton Wanderers  \\\n",
       "long_name                                                                       \n",
       "aaron nassur kamardin 6559                    0                             0   \n",
       "abdel hakim abdallah  3800                    0                             0   \n",
       "abdou diallo          1515                    0                             0   \n",
       "\n",
       "                            club_Yeni Malatyaspor  club_Çaykur Rizespor  \\\n",
       "long_name                                                                 \n",
       "aaron nassur kamardin 6559                      0                     0   \n",
       "abdel hakim abdallah  3800                      0                     0   \n",
       "abdou diallo          1515                      0                     0   \n",
       "\n",
       "                            club_Évian Thonon Gaillard FC  \n",
       "long_name                                                  \n",
       "aaron nassur kamardin 6559                              0  \n",
       "abdel hakim abdallah  3800                              0  \n",
       "abdou diallo          1515                              0  \n",
       "\n",
       "[3 rows x 309 columns]"
      ]
     },
     "execution_count": 63,
     "metadata": {},
     "output_type": "execute_result"
    }
   ],
   "source": [
    "defense_df.head(3)"
   ]
  },
  {
   "cell_type": "markdown",
   "metadata": {},
   "source": [
    "# Split Datasets"
   ]
  },
  {
   "cell_type": "markdown",
   "metadata": {},
   "source": [
    "Nous allons maintenant séparer nos données en données d'entrainement et données test.\n",
    "Rappelons que la variable à expliquer ici est le fait qu'un joueur soit sélectionné ou pas (colonne 'selected'). Toutes les autres colonnes de defense_df nous servent à déterminer ce résultat."
   ]
  },
  {
   "cell_type": "code",
   "execution_count": 64,
   "metadata": {},
   "outputs": [
    {
     "name": "stdout",
     "output_type": "stream",
     "text": [
      "(1798, 304) (450, 304) (1798, 1) (450, 1)\n"
     ]
    }
   ],
   "source": [
    "#On retire les colonnes qui ne nous servent pas \n",
    "columns_for_training = list(set(defense_df.columns.tolist()) - set(['long_name', 'selected', 'poste','team_position', 'player_positions']))\n",
    "X = defense_df[columns_for_training]\n",
    "y = defense_df[['selected']]\n",
    "#Maintenant, on split les données aléatoirement entre données d'entrainement (20%) et données de test (80%)\n",
    "X_train, X_test, y_train, y_test = train_test_split(X, y, test_size=0.2, random_state = 0)\n",
    "print(X_train.shape, X_test.shape,y_train.shape, y_test.shape)"
   ]
  },
  {
   "cell_type": "markdown",
   "metadata": {},
   "source": [
    "# Classification avec Random Forest"
   ]
  },
  {
   "cell_type": "markdown",
   "metadata": {},
   "source": [
    "Le premier modèle que nous allons utiliser est le Random Forest. Il s'agit d'un algorithme de classification dont le principe est de combiner plusieurs arbres de décisions dans une approche de type bagging.\n",
    "\n",
    "\n",
    "Le nombre d'arbres est un paramètre que nous allons ajuster par validation croisée."
   ]
  },
  {
   "cell_type": "code",
   "execution_count": 65,
   "metadata": {
    "scrolled": true
   },
   "outputs": [],
   "source": [
    "#On choisit arbitrairment de fixer le nombre d'arbres (n_estimators) à 10\n",
    "rf = RandomForestClassifier(n_estimators = 10, random_state=0)\n",
    "rf.fit(X_train, y_train)\n",
    "\n",
    "# Predicting the Test set results\n",
    "y_pred = rf.predict(X_test)"
   ]
  },
  {
   "cell_type": "code",
   "execution_count": 66,
   "metadata": {
    "scrolled": true
   },
   "outputs": [
    {
     "name": "stdout",
     "output_type": "stream",
     "text": [
      "[[431   0]\n",
      " [ 13   6]]\n",
      "Accuracy : 0.9711111111111111\n"
     ]
    }
   ],
   "source": [
    "cm = confusion_matrix(y_test, y_pred)\n",
    "print(cm)\n",
    "print('Accuracy : ' + str(accuracy_score(y_test, y_pred)))"
   ]
  },
  {
   "cell_type": "markdown",
   "metadata": {},
   "source": [
    "Pour 10 arbres de décision, la précision du modèle est de 96%."
   ]
  },
  {
   "cell_type": "markdown",
   "metadata": {},
   "source": [
    "Ici, validation_curve applique une cross validation du modèle random forest sur les différentes valeurs du paramètre n_estimators qui sont comprises entre 1 et 50 et vont de 2 en 2."
   ]
  },
  {
   "cell_type": "code",
   "execution_count": 67,
   "metadata": {
    "scrolled": true
   },
   "outputs": [],
   "source": [
    "param_range = np.arange(1, 50, 2)\n",
    "\n",
    "train_scores, test_scores = validation_curve(\n",
    "                                RandomForestClassifier(),\n",
    "                                X = X_train, y = y_train, \n",
    "                                param_name = 'n_estimators', \n",
    "                                param_range = param_range, cv = 3)\n",
    "\n",
    "train_mean = np.mean(train_scores, axis=1)\n",
    "train_std = np.std(train_scores, axis=1)\n",
    "\n",
    "test_mean = np.mean(test_scores, axis=1)\n",
    "test_std = np.std(test_scores, axis=1)"
   ]
  },
  {
   "cell_type": "markdown",
   "metadata": {},
   "source": [
    "Voyons à l'aide d'un graphique le nombre optimal d'arbres à utiliser d'après validation_curve :"
   ]
  },
  {
   "cell_type": "code",
   "execution_count": 68,
   "metadata": {},
   "outputs": [
    {
     "data": {
      "image/png": "[encoded data removed]",
      "text/plain": [
       "<Figure size 504x504 with 1 Axes>"
      ]
     },
     "metadata": {
      "needs_background": "light"
     },
     "output_type": "display_data"
    }
   ],
   "source": [
    "plt.subplots(1, figsize=(7,7))\n",
    "plt.plot(param_range, train_mean, label=\"Training score\", color=\"black\")\n",
    "plt.plot(param_range, test_mean, label=\"Cross-validation score\", color=\"dimgrey\")\n",
    "\n",
    "plt.fill_between(param_range, train_mean - train_std, train_mean + train_std, color=\"gray\")\n",
    "plt.fill_between(param_range, test_mean - test_std, test_mean + test_std, color=\"gainsboro\")\n",
    "\n",
    "plt.title(\"Validation Curve With Random Forest\")\n",
    "plt.xlabel(\"Number Of Trees\")\n",
    "plt.ylabel(\"Accuracy Score\")\n",
    "plt.tight_layout()\n",
    "plt.legend(loc=\"best\")\n",
    "plt.show()"
   ]
  },
  {
   "cell_type": "markdown",
   "metadata": {},
   "source": [
    "D'après le graphique, le score est le plus élevé pour environ 27 arbres de décision. Voyons si c'est le cas :"
   ]
  },
  {
   "cell_type": "code",
   "execution_count": 69,
   "metadata": {},
   "outputs": [],
   "source": [
    "rf = RandomForestClassifier(n_estimators = 27, random_state=0)\n",
    "rf.fit(X_train, y_train)\n",
    "y_pred = rf.predict(X_test)"
   ]
  },
  {
   "cell_type": "code",
   "execution_count": 70,
   "metadata": {},
   "outputs": [
    {
     "name": "stdout",
     "output_type": "stream",
     "text": [
      "[[430   1]\n",
      " [ 14   5]]\n",
      "Accuracy : 0.9666666666666667\n"
     ]
    }
   ],
   "source": [
    "cm = confusion_matrix(y_test, y_pred)\n",
    "print(cm)\n",
    "print('Accuracy : ' + str(accuracy_score(y_test, y_pred)))"
   ]
  },
  {
   "cell_type": "markdown",
   "metadata": {},
   "source": [
    "On remarque qu'effectivement, la précision a très légèrement augmenté."
   ]
  },
  {
   "cell_type": "markdown",
   "metadata": {},
   "source": [
    "# Random forest avec RandomizedSearchCV"
   ]
  },
  {
   "cell_type": "markdown",
   "metadata": {},
   "source": [
    "Nous allons maintenant chercher les hyper-paramètres (nombre d'arbres et profondeur maximum des arbres) les plus optimaux pour notre modélisaton pour n_estimators allant de 10 à 1000 arbres de décision avec un pas de 10."
   ]
  },
  {
   "cell_type": "code",
   "execution_count": 71,
   "metadata": {},
   "outputs": [],
   "source": [
    "# Number of trees in random forest\n",
    "n_estimators = [int(x) for x in np.linspace(start = 2, stop = 100, num = 2)]\n",
    "# Number of features to consider at every split\n",
    "max_features = ['auto', 'sqrt']\n",
    "# Maximum number of levels in tree\n",
    "max_depth = [int(x) for x in np.linspace(10, 110, num = 11)]\n",
    "max_depth.append(None)\n",
    "# Minimum number of samples required to split a node\n",
    "min_samples_split = [2, 5, 10]\n",
    "# Minimum number of samples required at each leaf node\n",
    "min_samples_leaf = [1, 2, 4]\n",
    "# Method of selecting samples for training each tree\n",
    "bootstrap = [True, False]\n",
    "# Create the random grid\n",
    "random_grid = {'n_estimators': n_estimators,\n",
    "               'max_features': max_features,\n",
    "               'max_depth': max_depth,\n",
    "               'min_samples_split': min_samples_split,\n",
    "               'min_samples_leaf': min_samples_leaf,\n",
    "               'bootstrap': bootstrap}"
   ]
  },
  {
   "cell_type": "code",
   "execution_count": 72,
   "metadata": {},
   "outputs": [
    {
     "name": "stdout",
     "output_type": "stream",
     "text": [
      "Fitting 3 folds for each of 100 candidates, totalling 300 fits\n"
     ]
    },
    {
     "data": {
      "text/plain": [
       "RandomizedSearchCV(cv=3, estimator=RandomForestClassifier(), n_iter=100,\n",
       "                   n_jobs=-1,\n",
       "                   param_distributions={'bootstrap': [True, False],\n",
       "                                        'max_depth': [10, 20, 30, 40, 50, 60,\n",
       "                                                      70, 80, 90, 100, 110,\n",
       "                                                      None],\n",
       "                                        'max_features': ['auto', 'sqrt'],\n",
       "                                        'min_samples_leaf': [1, 2, 4],\n",
       "                                        'min_samples_split': [2, 5, 10],\n",
       "                                        'n_estimators': [2, 100]},\n",
       "                   random_state=42, verbose=2)"
      ]
     },
     "execution_count": 72,
     "metadata": {},
     "output_type": "execute_result"
    }
   ],
   "source": [
    "# Use the random grid to search for best hyperparameters\n",
    "# First create the base model to tune\n",
    "rf = RandomForestClassifier()\n",
    "# Random search of parameters, using 3 fold cross validation, \n",
    "# search across 100 different combinations, and use all available cores\n",
    "rf_random = RandomizedSearchCV(estimator = rf, param_distributions = random_grid, n_iter = 100, cv = 3, verbose=2, random_state=42, n_jobs = -1)\n",
    "# Fit the random search model\n",
    "rf_random.fit(X_train, y_train)"
   ]
  },
  {
   "cell_type": "code",
   "execution_count": 73,
   "metadata": {},
   "outputs": [
    {
     "data": {
      "text/plain": [
       "{'n_estimators': 100,\n",
       " 'min_samples_split': 2,\n",
       " 'min_samples_leaf': 1,\n",
       " 'max_features': 'sqrt',\n",
       " 'max_depth': 30,\n",
       " 'bootstrap': False}"
      ]
     },
     "execution_count": 73,
     "metadata": {},
     "output_type": "execute_result"
    }
   ],
   "source": [
    "#On affiche les meilleurs parametres retenus par RandomizedSearchCV\n",
    "rf_random.best_params_"
   ]
  },
  {
   "cell_type": "code",
   "execution_count": 74,
   "metadata": {
    "scrolled": true
   },
   "outputs": [
    {
     "name": "stdout",
     "output_type": "stream",
     "text": [
      "[[431   0]\n",
      " [ 13   6]]\n",
      "Accuracy of base model : 0.9711111111111111\n",
      "[[429   2]\n",
      " [ 12   7]]\n",
      "Accuracy of best model : 0.9688888888888889\n"
     ]
    }
   ],
   "source": [
    "base_model = RandomForestClassifier()\n",
    "base_model.fit(X_train, y_train)\n",
    "y_pred = base_model.predict(X_test)\n",
    "\n",
    "cm = confusion_matrix(y_test, y_pred)\n",
    "print(cm)\n",
    "print('Accuracy of base model : ' + str(accuracy_score(y_test, y_pred)))\n",
    "\n",
    "best_random = rf_random.best_estimator_\n",
    "y_pred = best_random.predict(X_test)\n",
    "\n",
    "cm = confusion_matrix(y_test, y_pred)\n",
    "print(cm)\n",
    "print('Accuracy of best model : ' + str(accuracy_score(y_test, y_pred)))"
   ]
  },
  {
   "cell_type": "markdown",
   "metadata": {},
   "source": [
    "Le meilleur modèle est donc bien celui obtenu par l'optimisation des hyperparamètres puisqu'il présente une meilleure accuracy et sa matrice de confusion nous renvoie 7 vrais positifs contre 5 dans le modèle de base."
   ]
  },
  {
   "cell_type": "markdown",
   "metadata": {},
   "source": [
    "## Over-sampling avec SMOTE"
   ]
  },
  {
   "cell_type": "markdown",
   "metadata": {},
   "source": [
    "Nos données sont déséquilibrées : il y a beaucoup plus de joueurs non sélectionnés que de joueurs sélectionnés. Nous allons donc les rééquilibrer par la méthode SMOTE pour essayer d'améliorer le modèle.\n",
    "\n",
    "SMOTE = Synthetic Minority Oversampling TEchnique.\n",
    "\n",
    "Cette méthode consiste à créer de manière synthétique des observations de la classe minoritaire afin de rééquilibrer les 2 classes."
   ]
  },
  {
   "cell_type": "code",
   "execution_count": 75,
   "metadata": {},
   "outputs": [],
   "source": [
    "sm = SMOTE(random_state = 2)\n",
    "X_train_res, y_train_res = sm.fit_resample(X_train, y_train)"
   ]
  },
  {
   "cell_type": "code",
   "execution_count": 76,
   "metadata": {},
   "outputs": [
    {
     "data": {
      "text/plain": [
       "(1798, 304)"
      ]
     },
     "execution_count": 76,
     "metadata": {},
     "output_type": "execute_result"
    }
   ],
   "source": [
    "#On affiche la taille de X_train\n",
    "X_train.shape"
   ]
  },
  {
   "cell_type": "code",
   "execution_count": 77,
   "metadata": {},
   "outputs": [
    {
     "data": {
      "text/plain": [
       "(3496, 304)"
      ]
     },
     "execution_count": 77,
     "metadata": {},
     "output_type": "execute_result"
    }
   ],
   "source": [
    "#On affiche la taille de X_train_res. On remarque que le nombre de lignes a augmenté\n",
    "X_train_res.shape"
   ]
  },
  {
   "cell_type": "code",
   "execution_count": 78,
   "metadata": {},
   "outputs": [
    {
     "data": {
      "text/plain": [
       "0.0    1748\n",
       "1.0      50\n",
       "Name: selected, dtype: int64"
      ]
     },
     "execution_count": 78,
     "metadata": {},
     "output_type": "execute_result"
    }
   ],
   "source": [
    "y_train['selected'].value_counts()"
   ]
  },
  {
   "cell_type": "code",
   "execution_count": 79,
   "metadata": {},
   "outputs": [
    {
     "data": {
      "text/plain": [
       "1.0    1748\n",
       "0.0    1748\n",
       "Name: selected, dtype: int64"
      ]
     },
     "execution_count": 79,
     "metadata": {},
     "output_type": "execute_result"
    }
   ],
   "source": [
    "y_train_res['selected'].value_counts()"
   ]
  },
  {
   "cell_type": "code",
   "execution_count": 80,
   "metadata": {
    "scrolled": true
   },
   "outputs": [],
   "source": [
    "#On applique le random forest sur nos données re-equilibrees\n",
    "smote_model = RandomForestClassifier()\n",
    "smote_model.fit(X_train_res, y_train_res)\n",
    "y_pred_res = smote_model.predict(X_test)"
   ]
  },
  {
   "cell_type": "code",
   "execution_count": 81,
   "metadata": {},
   "outputs": [
    {
     "data": {
      "text/plain": [
       "array([[425,   6],\n",
       "       [ 11,   8]])"
      ]
     },
     "execution_count": 81,
     "metadata": {},
     "output_type": "execute_result"
    }
   ],
   "source": [
    "confusion_matrix(y_test, y_pred_res)"
   ]
  },
  {
   "cell_type": "markdown",
   "metadata": {},
   "source": [
    "Notons que dans notre cas, l'accuracy n'est pas une mesure pertinente car elle reflète le score global de la classification, or nous nous intéressons plutôt à l'optimisation des vrais positifs. Ainsi, pour déterminer le meilleur modèle, nous choisissons de mesurer la précision car nous voulons minimiser les faux positifs, alors que la métrique du recall est plus intéressante lorsque nous accordons plus d'importance aux faux négatifs.\n",
    "\n",
    "La formule de la precision est donnée par :           Precision = TruePositive/(TruePositive+FalsePositive)"
   ]
  },
  {
   "cell_type": "code",
   "execution_count": 82,
   "metadata": {},
   "outputs": [
    {
     "name": "stdout",
     "output_type": "stream",
     "text": [
      "0.5789473684210527\n"
     ]
    }
   ],
   "source": [
    "precision_smote_model = 11/(11+8)\n",
    "print(precision_smote_model)"
   ]
  },
  {
   "cell_type": "markdown",
   "metadata": {},
   "source": [
    "Conclusion: précision de 57% pour le random forest avec SMOTE."
   ]
  },
  {
   "cell_type": "code",
   "execution_count": 84,
   "metadata": {},
   "outputs": [
    {
     "ename": "ValueError",
     "evalue": "X has 1 features, but DecisionTreeClassifier is expecting 304 features as input.",
     "output_type": "error",
     "traceback": [
      "\u001b[0;31m---------------------------------------------------------------------------\u001b[0m",
      "\u001b[0;31mValueError\u001b[0m                                Traceback (most recent call last)",
      "\u001b[0;32m<ipython-input-84-e06b9b5bc1bc>\u001b[0m in \u001b[0;36m<module>\u001b[0;34m\u001b[0m\n\u001b[0;32m----> 1\u001b[0;31m \u001b[0mplot_confusion_matrix\u001b[0m\u001b[0;34m(\u001b[0m\u001b[0msmote_model\u001b[0m\u001b[0;34m,\u001b[0m \u001b[0my_test\u001b[0m\u001b[0;34m,\u001b[0m \u001b[0my_pred_res\u001b[0m\u001b[0;34m)\u001b[0m\u001b[0;34m\u001b[0m\u001b[0;34m\u001b[0m\u001b[0m\n\u001b[0m\u001b[1;32m      2\u001b[0m \u001b[0mplt\u001b[0m\u001b[0;34m.\u001b[0m\u001b[0mshow\u001b[0m\u001b[0;34m(\u001b[0m\u001b[0;34m)\u001b[0m\u001b[0;34m\u001b[0m\u001b[0;34m\u001b[0m\u001b[0m\n",
      "\u001b[0;32m~/opt/anaconda3/lib/python3.8/site-packages/sklearn/utils/validation.py\u001b[0m in \u001b[0;36minner_f\u001b[0;34m(*args, **kwargs)\u001b[0m\n\u001b[1;32m     61\u001b[0m             \u001b[0mextra_args\u001b[0m \u001b[0;34m=\u001b[0m \u001b[0mlen\u001b[0m\u001b[0;34m(\u001b[0m\u001b[0margs\u001b[0m\u001b[0;34m)\u001b[0m \u001b[0;34m-\u001b[0m \u001b[0mlen\u001b[0m\u001b[0;34m(\u001b[0m\u001b[0mall_args\u001b[0m\u001b[0;34m)\u001b[0m\u001b[0;34m\u001b[0m\u001b[0;34m\u001b[0m\u001b[0m\n\u001b[1;32m     62\u001b[0m             \u001b[0;32mif\u001b[0m \u001b[0mextra_args\u001b[0m \u001b[0;34m<=\u001b[0m \u001b[0;36m0\u001b[0m\u001b[0;34m:\u001b[0m\u001b[0;34m\u001b[0m\u001b[0;34m\u001b[0m\u001b[0m\n\u001b[0;32m---> 63\u001b[0;31m                 \u001b[0;32mreturn\u001b[0m \u001b[0mf\u001b[0m\u001b[0;34m(\u001b[0m\u001b[0;34m*\u001b[0m\u001b[0margs\u001b[0m\u001b[0;34m,\u001b[0m \u001b[0;34m**\u001b[0m\u001b[0mkwargs\u001b[0m\u001b[0;34m)\u001b[0m\u001b[0;34m\u001b[0m\u001b[0;34m\u001b[0m\u001b[0m\n\u001b[0m\u001b[1;32m     64\u001b[0m \u001b[0;34m\u001b[0m\u001b[0m\n\u001b[1;32m     65\u001b[0m             \u001b[0;31m# extra_args > 0\u001b[0m\u001b[0;34m\u001b[0m\u001b[0;34m\u001b[0m\u001b[0;34m\u001b[0m\u001b[0m\n",
      "\u001b[0;32m~/opt/anaconda3/lib/python3.8/site-packages/sklearn/metrics/_plot/confusion_matrix.py\u001b[0m in \u001b[0;36mplot_confusion_matrix\u001b[0;34m(estimator, X, y_true, labels, sample_weight, normalize, display_labels, include_values, xticks_rotation, values_format, cmap, ax, colorbar)\u001b[0m\n\u001b[1;32m    258\u001b[0m         \u001b[0;32mraise\u001b[0m \u001b[0mValueError\u001b[0m\u001b[0;34m(\u001b[0m\u001b[0;34m\"plot_confusion_matrix only supports classifiers\"\u001b[0m\u001b[0;34m)\u001b[0m\u001b[0;34m\u001b[0m\u001b[0;34m\u001b[0m\u001b[0m\n\u001b[1;32m    259\u001b[0m \u001b[0;34m\u001b[0m\u001b[0m\n\u001b[0;32m--> 260\u001b[0;31m     \u001b[0my_pred\u001b[0m \u001b[0;34m=\u001b[0m \u001b[0mestimator\u001b[0m\u001b[0;34m.\u001b[0m\u001b[0mpredict\u001b[0m\u001b[0;34m(\u001b[0m\u001b[0mX\u001b[0m\u001b[0;34m)\u001b[0m\u001b[0;34m\u001b[0m\u001b[0;34m\u001b[0m\u001b[0m\n\u001b[0m\u001b[1;32m    261\u001b[0m     cm = confusion_matrix(y_true, y_pred, sample_weight=sample_weight,\n\u001b[1;32m    262\u001b[0m                           labels=labels, normalize=normalize)\n",
      "\u001b[0;32m~/opt/anaconda3/lib/python3.8/site-packages/sklearn/ensemble/_forest.py\u001b[0m in \u001b[0;36mpredict\u001b[0;34m(self, X)\u001b[0m\n\u001b[1;32m    628\u001b[0m             \u001b[0mThe\u001b[0m \u001b[0mpredicted\u001b[0m \u001b[0mclasses\u001b[0m\u001b[0;34m.\u001b[0m\u001b[0;34m\u001b[0m\u001b[0;34m\u001b[0m\u001b[0m\n\u001b[1;32m    629\u001b[0m         \"\"\"\n\u001b[0;32m--> 630\u001b[0;31m         \u001b[0mproba\u001b[0m \u001b[0;34m=\u001b[0m \u001b[0mself\u001b[0m\u001b[0;34m.\u001b[0m\u001b[0mpredict_proba\u001b[0m\u001b[0;34m(\u001b[0m\u001b[0mX\u001b[0m\u001b[0;34m)\u001b[0m\u001b[0;34m\u001b[0m\u001b[0;34m\u001b[0m\u001b[0m\n\u001b[0m\u001b[1;32m    631\u001b[0m \u001b[0;34m\u001b[0m\u001b[0m\n\u001b[1;32m    632\u001b[0m         \u001b[0;32mif\u001b[0m \u001b[0mself\u001b[0m\u001b[0;34m.\u001b[0m\u001b[0mn_outputs_\u001b[0m \u001b[0;34m==\u001b[0m \u001b[0;36m1\u001b[0m\u001b[0;34m:\u001b[0m\u001b[0;34m\u001b[0m\u001b[0;34m\u001b[0m\u001b[0m\n",
      "\u001b[0;32m~/opt/anaconda3/lib/python3.8/site-packages/sklearn/ensemble/_forest.py\u001b[0m in \u001b[0;36mpredict_proba\u001b[0;34m(self, X)\u001b[0m\n\u001b[1;32m    672\u001b[0m         \u001b[0mcheck_is_fitted\u001b[0m\u001b[0;34m(\u001b[0m\u001b[0mself\u001b[0m\u001b[0;34m)\u001b[0m\u001b[0;34m\u001b[0m\u001b[0;34m\u001b[0m\u001b[0m\n\u001b[1;32m    673\u001b[0m         \u001b[0;31m# Check data\u001b[0m\u001b[0;34m\u001b[0m\u001b[0;34m\u001b[0m\u001b[0;34m\u001b[0m\u001b[0m\n\u001b[0;32m--> 674\u001b[0;31m         \u001b[0mX\u001b[0m \u001b[0;34m=\u001b[0m \u001b[0mself\u001b[0m\u001b[0;34m.\u001b[0m\u001b[0m_validate_X_predict\u001b[0m\u001b[0;34m(\u001b[0m\u001b[0mX\u001b[0m\u001b[0;34m)\u001b[0m\u001b[0;34m\u001b[0m\u001b[0;34m\u001b[0m\u001b[0m\n\u001b[0m\u001b[1;32m    675\u001b[0m \u001b[0;34m\u001b[0m\u001b[0m\n\u001b[1;32m    676\u001b[0m         \u001b[0;31m# Assign chunk of trees to jobs\u001b[0m\u001b[0;34m\u001b[0m\u001b[0;34m\u001b[0m\u001b[0;34m\u001b[0m\u001b[0m\n",
      "\u001b[0;32m~/opt/anaconda3/lib/python3.8/site-packages/sklearn/ensemble/_forest.py\u001b[0m in \u001b[0;36m_validate_X_predict\u001b[0;34m(self, X)\u001b[0m\n\u001b[1;32m    420\u001b[0m         \u001b[0mcheck_is_fitted\u001b[0m\u001b[0;34m(\u001b[0m\u001b[0mself\u001b[0m\u001b[0;34m)\u001b[0m\u001b[0;34m\u001b[0m\u001b[0;34m\u001b[0m\u001b[0m\n\u001b[1;32m    421\u001b[0m \u001b[0;34m\u001b[0m\u001b[0m\n\u001b[0;32m--> 422\u001b[0;31m         \u001b[0;32mreturn\u001b[0m \u001b[0mself\u001b[0m\u001b[0;34m.\u001b[0m\u001b[0mestimators_\u001b[0m\u001b[0;34m[\u001b[0m\u001b[0;36m0\u001b[0m\u001b[0;34m]\u001b[0m\u001b[0;34m.\u001b[0m\u001b[0m_validate_X_predict\u001b[0m\u001b[0;34m(\u001b[0m\u001b[0mX\u001b[0m\u001b[0;34m,\u001b[0m \u001b[0mcheck_input\u001b[0m\u001b[0;34m=\u001b[0m\u001b[0;32mTrue\u001b[0m\u001b[0;34m)\u001b[0m\u001b[0;34m\u001b[0m\u001b[0;34m\u001b[0m\u001b[0m\n\u001b[0m\u001b[1;32m    423\u001b[0m \u001b[0;34m\u001b[0m\u001b[0m\n\u001b[1;32m    424\u001b[0m     \u001b[0;34m@\u001b[0m\u001b[0mproperty\u001b[0m\u001b[0;34m\u001b[0m\u001b[0;34m\u001b[0m\u001b[0m\n",
      "\u001b[0;32m~/opt/anaconda3/lib/python3.8/site-packages/sklearn/tree/_classes.py\u001b[0m in \u001b[0;36m_validate_X_predict\u001b[0;34m(self, X, check_input)\u001b[0m\n\u001b[1;32m    400\u001b[0m         \u001b[0;34m\"\"\"Validate the training data on predict (probabilities).\"\"\"\u001b[0m\u001b[0;34m\u001b[0m\u001b[0;34m\u001b[0m\u001b[0m\n\u001b[1;32m    401\u001b[0m         \u001b[0;32mif\u001b[0m \u001b[0mcheck_input\u001b[0m\u001b[0;34m:\u001b[0m\u001b[0;34m\u001b[0m\u001b[0;34m\u001b[0m\u001b[0m\n\u001b[0;32m--> 402\u001b[0;31m             X = self._validate_data(X, dtype=DTYPE, accept_sparse=\"csr\",\n\u001b[0m\u001b[1;32m    403\u001b[0m                                     reset=False)\n\u001b[1;32m    404\u001b[0m             if issparse(X) and (X.indices.dtype != np.intc or\n",
      "\u001b[0;32m~/opt/anaconda3/lib/python3.8/site-packages/sklearn/base.py\u001b[0m in \u001b[0;36m_validate_data\u001b[0;34m(self, X, y, reset, validate_separately, **check_params)\u001b[0m\n\u001b[1;32m    435\u001b[0m \u001b[0;34m\u001b[0m\u001b[0m\n\u001b[1;32m    436\u001b[0m         \u001b[0;32mif\u001b[0m \u001b[0mcheck_params\u001b[0m\u001b[0;34m.\u001b[0m\u001b[0mget\u001b[0m\u001b[0;34m(\u001b[0m\u001b[0;34m'ensure_2d'\u001b[0m\u001b[0;34m,\u001b[0m \u001b[0;32mTrue\u001b[0m\u001b[0;34m)\u001b[0m\u001b[0;34m:\u001b[0m\u001b[0;34m\u001b[0m\u001b[0;34m\u001b[0m\u001b[0m\n\u001b[0;32m--> 437\u001b[0;31m             \u001b[0mself\u001b[0m\u001b[0;34m.\u001b[0m\u001b[0m_check_n_features\u001b[0m\u001b[0;34m(\u001b[0m\u001b[0mX\u001b[0m\u001b[0;34m,\u001b[0m \u001b[0mreset\u001b[0m\u001b[0;34m=\u001b[0m\u001b[0mreset\u001b[0m\u001b[0;34m)\u001b[0m\u001b[0;34m\u001b[0m\u001b[0;34m\u001b[0m\u001b[0m\n\u001b[0m\u001b[1;32m    438\u001b[0m \u001b[0;34m\u001b[0m\u001b[0m\n\u001b[1;32m    439\u001b[0m         \u001b[0;32mreturn\u001b[0m \u001b[0mout\u001b[0m\u001b[0;34m\u001b[0m\u001b[0;34m\u001b[0m\u001b[0m\n",
      "\u001b[0;32m~/opt/anaconda3/lib/python3.8/site-packages/sklearn/base.py\u001b[0m in \u001b[0;36m_check_n_features\u001b[0;34m(self, X, reset)\u001b[0m\n\u001b[1;32m    363\u001b[0m \u001b[0;34m\u001b[0m\u001b[0m\n\u001b[1;32m    364\u001b[0m         \u001b[0;32mif\u001b[0m \u001b[0mn_features\u001b[0m \u001b[0;34m!=\u001b[0m \u001b[0mself\u001b[0m\u001b[0;34m.\u001b[0m\u001b[0mn_features_in_\u001b[0m\u001b[0;34m:\u001b[0m\u001b[0;34m\u001b[0m\u001b[0;34m\u001b[0m\u001b[0m\n\u001b[0;32m--> 365\u001b[0;31m             raise ValueError(\n\u001b[0m\u001b[1;32m    366\u001b[0m                 \u001b[0;34mf\"X has {n_features} features, but {self.__class__.__name__} \"\u001b[0m\u001b[0;34m\u001b[0m\u001b[0;34m\u001b[0m\u001b[0m\n\u001b[1;32m    367\u001b[0m                 f\"is expecting {self.n_features_in_} features as input.\")\n",
      "\u001b[0;31mValueError\u001b[0m: X has 1 features, but DecisionTreeClassifier is expecting 304 features as input."
     ]
    }
   ],
   "source": [
    "plot_confusion_matrix(smote_model, y_test, y_pred_res) \n",
    "plt.show()"
   ]
  },
  {
   "cell_type": "markdown",
   "metadata": {},
   "source": [
    "# Régression Logistique"
   ]
  },
  {
   "cell_type": "markdown",
   "metadata": {},
   "source": [
    "Testons un autre modèle pour ce problème : la regression logistique.\n",
    "\n",
    "Un modèle de régression logistique permet de prédire la probabilité qu’un événement arrive (valeur de 1) ou non (valeur de 0) à partir de l’optimisation des coefficients de régression. Ce résultat varie toujours entre 0 et 1. Lorsque la valeur prédite est supérieure à un seuil, l’événement est susceptible de se produire, alors que lorsque cette valeur est inférieure au même seuil, il ne l’est pas."
   ]
  },
  {
   "cell_type": "code",
   "execution_count": null,
   "metadata": {},
   "outputs": [],
   "source": [
    "model_LR = LogisticRegression(random_state=0)\n",
    "model_LR.fit(X_train, y_train)\n",
    "y_pred = model_LR.predict(X_test)"
   ]
  },
  {
   "cell_type": "code",
   "execution_count": null,
   "metadata": {},
   "outputs": [],
   "source": [
    "#On affiche la matrice de confusion\n",
    "confusion_matrix(y_test, y_pred)"
   ]
  },
  {
   "cell_type": "code",
   "execution_count": null,
   "metadata": {},
   "outputs": [],
   "source": [
    "#On calcule la precision\n",
    "precision_model_LR = 5/(5+6)\n",
    "print(precision_model_LR)"
   ]
  },
  {
   "cell_type": "markdown",
   "metadata": {},
   "source": [
    "Conclusion : précision de 45% pour la regression linéaire.\n",
    "\n",
    "Faisons la même chose pour des données ré-équilibrées :"
   ]
  },
  {
   "cell_type": "code",
   "execution_count": null,
   "metadata": {},
   "outputs": [],
   "source": [
    "model_LR_res = LogisticRegression(random_state=0)\n",
    "model_LR_res.fit(X_train_res, y_train_res)\n",
    "y_pred_res = model_LR_res.predict(X_test)"
   ]
  },
  {
   "cell_type": "code",
   "execution_count": null,
   "metadata": {},
   "outputs": [],
   "source": [
    "confusion_matrix(y_test, y_pred_res)"
   ]
  },
  {
   "cell_type": "code",
   "execution_count": null,
   "metadata": {},
   "outputs": [],
   "source": [
    "precision_model_LR_res = 16/(16+27)\n",
    "print(precision_model_LR_res)"
   ]
  },
  {
   "cell_type": "markdown",
   "metadata": {},
   "source": [
    "Conclusion : précision de 37% pour la régression linéaire avec SMOTE."
   ]
  },
  {
   "cell_type": "markdown",
   "metadata": {},
   "source": [
    "# Conclusion"
   ]
  },
  {
   "cell_type": "markdown",
   "metadata": {},
   "source": [
    "Au vu des résultats que nous venons d'obtenir, il apparaît que le meilleur modèle est le random forest avec oversampling, qui arrive à prédire avec succès la sélection de 8 défenseurs sur 19.\n",
    "\n",
    "Pour ce projet, nous nous sommes restreint à la position de défenseur en ne travaillant qu'avec le dataframe defense_df. Pour compléter cette analyse, nous pourrions refaire ce travail de modélisation sur les dataframes des données des joueurs des autres positions.\n",
    "\n",
    "A savoir : les données d'entrainement sont basées sur la sélection de Didier Deschamps: il s'agit d'une sélection humaine irrationnelle qui change au fil des années. C'est pourquoi aucun modèle ne pourrait reproduire les décisions prises à un instant t par le sélectionneur."
   ]
  }
 ],
 "metadata": {
  "kernelspec": {
   "display_name": "Python 3",
   "language": "python",
   "name": "python3"
  },
  "language_info": {
   "codemirror_mode": {
    "name": "ipython",
    "version": 3
   },
   "file_extension": ".py",
   "mimetype": "text/x-python",
   "name": "python",
   "nbconvert_exporter": "python",
   "pygments_lexer": "ipython3",
   "version": "3.8.5"
  }
 },
 "nbformat": 4,
 "nbformat_minor": 4
}
